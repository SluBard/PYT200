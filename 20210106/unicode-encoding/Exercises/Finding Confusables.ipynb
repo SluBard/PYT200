{
 "cells": [
  {
   "cell_type": "markdown",
   "metadata": {},
   "source": [
    "# Finding Confusables"
   ]
  },
  {
   "cell_type": "markdown",
   "metadata": {},
   "source": [
    "## Open URLs.txt and create list of URLs."
   ]
  },
  {
   "cell_type": "code",
   "execution_count": 1,
   "metadata": {},
   "outputs": [],
   "source": [
    "with open('URLs.txt', encoding='utf-8') as f:\n",
    "    urls = f.read().splitlines()"
   ]
  },
  {
   "cell_type": "markdown",
   "metadata": {},
   "source": [
    "## Create Functions\n",
    "1. is_ascii(c)\n",
    "2. contains_confusables(s)"
   ]
  },
  {
   "cell_type": "code",
   "execution_count": 38,
   "metadata": {},
   "outputs": [],
   "source": [
    "def is_ascii(c):\n",
    "    \"\"\"Returns boolean indicating if c is ascii\n",
    "    \n",
    "    Keyword arguments:\n",
    "    c (str) - one-character string to check\n",
    "    \"\"\"\n",
    "    return ord(c)<256\n",
    "        \n",
    "def contains_confusables(s):\n",
    "    \"\"\"Searches string for confusables.\n",
    "    Returns 2-element tuple:\n",
    "        t[0]: Boolean - indicating if s contains one or more confusables.\n",
    "        t[1]: String - copy of original string, but with confusables utf-8 encoded.\n",
    "    \n",
    "    Keyword arguments:\n",
    "    s (str) - string to check \n",
    "    \"\"\"\n",
    "    \n",
    "    new=\"\"\n",
    "    confused=False\n",
    "    \n",
    "    for c in s:\n",
    "        if is_ascii(c):\n",
    "            new += c\n",
    "        else:\n",
    "            new += '['+str(c.encode('utf-8'))+']'\n",
    "            confused = True\n",
    "            \n",
    "    return (confused,new)"
   ]
  },
  {
   "cell_type": "markdown",
   "metadata": {},
   "source": [
    "## Loop through URLs\n",
    "If the URL does not contain confusables, print it as is.\n",
    "If the URL contains confusables, print the original URL followed by the corrected URL on a new line (and tabbed in)."
   ]
  },
  {
   "cell_type": "code",
   "execution_count": 40,
   "metadata": {},
   "outputs": [
    {
     "name": "stdout",
     "output_type": "stream",
     "text": [
      "https://www.googlе.com\n",
      "\t*https://www.googl[b'\\xd0\\xb5'].com\n",
      "\n",
      "https://www.webucator.com\n",
      "\n",
      "https://twitter.com\n",
      "\n",
      "https://www.facebook.com\n",
      "\n",
      "https://www.micrоsоft.com\n",
      "\t*https://www.micr[b'\\xd0\\xbe']s[b'\\xd0\\xbe']ft.com\n",
      "\n",
      "https://www.youtube.com\n",
      "\n",
      "https://www.рython.org\n",
      "\t*https://www.[b'\\xd1\\x80']ython.org\n",
      "\n",
      "http://www.amazon.com\n",
      "\n",
      "https://www.υsa.gov\n",
      "\t*https://www.[b'\\xcf\\x85']sa.gov\n",
      "\n",
      "https://www.wikipedia.org\n",
      "\n"
     ]
    }
   ],
   "source": [
    "for url in urls:\n",
    "    print(url)\n",
    "    result,encoded=contains_confusables(url)\n",
    "    if result:\n",
    "        print(\"\\t*{}\".format(encoded))\n",
    "    print()"
   ]
  }
 ],
 "metadata": {
  "kernelspec": {
   "display_name": "Python 3",
   "language": "python",
   "name": "python3"
  },
  "language_info": {
   "codemirror_mode": {
    "name": "ipython",
    "version": 3
   },
   "file_extension": ".py",
   "mimetype": "text/x-python",
   "name": "python",
   "nbconvert_exporter": "python",
   "pygments_lexer": "ipython3",
   "version": "3.6.5"
  }
 },
 "nbformat": 4,
 "nbformat_minor": 1
}
