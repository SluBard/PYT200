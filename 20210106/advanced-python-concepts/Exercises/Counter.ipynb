{
 "cells": [
  {
   "cell_type": "code",
   "execution_count": 20,
   "metadata": {},
   "outputs": [
    {
     "data": {
      "text/plain": [
       "[('PEOPLE', 13),\n",
       " ('STATES', 7),\n",
       " ('SHOULD', 5),\n",
       " ('INDEPENDENT', 5),\n",
       " ('AGAINST', 5),\n",
       " ('GOVERNMENT,', 4),\n",
       " ('ASSENT', 4),\n",
       " ('OTHERS', 4),\n",
       " ('POLITICAL', 3),\n",
       " ('POWERS', 3)]"
      ]
     },
     "execution_count": 20,
     "metadata": {},
     "output_type": "execute_result"
    }
   ],
   "source": [
    "from collections import Counter\n",
    "text=open('../exercises/Declaration_of_Independence.txt').read() # f=open(); text=f.read()\n",
    "words = [word for word in text.upper().split() if len(word)>5]\n",
    "Counter(words).most_common(10)"
   ]
  }
 ],
 "metadata": {
  "kernelspec": {
   "display_name": "Python 3",
   "language": "python",
   "name": "python3"
  },
  "language_info": {
   "codemirror_mode": {
    "name": "ipython",
    "version": 3
   },
   "file_extension": ".py",
   "mimetype": "text/x-python",
   "name": "python",
   "nbconvert_exporter": "python",
   "pygments_lexer": "ipython3",
   "version": "3.6.5"
  }
 },
 "nbformat": 4,
 "nbformat_minor": 2
}
