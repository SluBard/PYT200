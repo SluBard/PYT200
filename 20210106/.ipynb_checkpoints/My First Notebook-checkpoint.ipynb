{
 "cells": [
  {
   "cell_type": "markdown",
   "metadata": {},
   "source": [
    "# heading"
   ]
  },
  {
   "cell_type": "code",
   "execution_count": 2,
   "metadata": {
    "scrolled": true
   },
   "outputs": [
    {
     "name": "stdout",
     "output_type": "stream",
     "text": [
      "Hello World!\n"
     ]
    }
   ],
   "source": [
    "print('Hello World!')"
   ]
  },
  {
   "cell_type": "code",
   "execution_count": 3,
   "metadata": {},
   "outputs": [
    {
     "data": {
      "text/plain": [
       "2"
      ]
     },
     "execution_count": 3,
     "metadata": {},
     "output_type": "execute_result"
    }
   ],
   "source": [
    "1+1"
   ]
  },
  {
   "cell_type": "code",
   "execution_count": 4,
   "metadata": {},
   "outputs": [
    {
     "name": "stdout",
     "output_type": "stream",
     "text": [
      "Hello World!\n",
      "None\n"
     ]
    }
   ],
   "source": [
    "result = print('Hello World!')\n",
    "print(result)"
   ]
  },
  {
   "cell_type": "code",
   "execution_count": 5,
   "metadata": {},
   "outputs": [],
   "source": [
    "def my_print(text):\n",
    "    print(text)\n",
    "    return 'I printed ' + text"
   ]
  },
  {
   "cell_type": "code",
   "execution_count": 6,
   "metadata": {},
   "outputs": [
    {
     "name": "stdout",
     "output_type": "stream",
     "text": [
      "Hello World!\n",
      "I printed Hello World!\n"
     ]
    }
   ],
   "source": [
    "result = my_print('Hello World!')\n",
    "print(result)"
   ]
  },
  {
   "cell_type": "code",
   "execution_count": 7,
   "metadata": {},
   "outputs": [
    {
     "data": {
      "text/plain": [
       "4"
      ]
     },
     "execution_count": 7,
     "metadata": {},
     "output_type": "execute_result"
    }
   ],
   "source": [
    "1+1\n",
    "2+2"
   ]
  },
  {
   "cell_type": "code",
   "execution_count": 7,
   "metadata": {},
   "outputs": [
    {
     "name": "stdout",
     "output_type": "stream",
     "text": [
      "<class 'dict'>\n",
      "C:\\ProgramData\\Anaconda3;C:\\ProgramData\\Anaconda3\\Library\\mingw-w64\\bin;C:\\ProgramData\\Anaconda3\\Library\\usr\\bin;C:\\ProgramData\\Anaconda3\\Library\\bin;C:\\ProgramData\\Anaconda3\\Scripts;C:\\ProgramData\\Anaconda3\\Library\\bin;C:\\WINDOWS\\system32;C:\\WINDOWS;C:\\WINDOWS\\System32\\Wbem;C:\\WINDOWS\\System32\\WindowsPowerShell\\v1.0;C:\\WINDOWS\\System32\\WindowsPowerShell\\v1.0\\;C:\\WINDOWS\\System32\\OpenSSH\\;C:\\ProgramData\\Anaconda3\\;%USERPROFILE%\\AppData\\Local\\Microsoft\\WindowsApps;\n"
     ]
    },
    {
     "data": {
      "text/plain": [
       "'C:\\\\ProgramData\\\\Anaconda3;C:\\\\ProgramData\\\\Anaconda3\\\\Library\\\\mingw-w64\\\\bin;C:\\\\ProgramData\\\\Anaconda3\\\\Library\\\\usr\\\\bin;C:\\\\ProgramData\\\\Anaconda3\\\\Library\\\\bin;C:\\\\ProgramData\\\\Anaconda3\\\\Scripts;C:\\\\ProgramData\\\\Anaconda3\\\\Library\\\\bin;C:\\\\WINDOWS\\\\system32;C:\\\\WINDOWS;C:\\\\WINDOWS\\\\System32\\\\Wbem;C:\\\\WINDOWS\\\\System32\\\\WindowsPowerShell\\\\v1.0;C:\\\\WINDOWS\\\\System32\\\\WindowsPowerShell\\\\v1.0\\\\;C:\\\\WINDOWS\\\\System32\\\\OpenSSH\\\\;C:\\\\ProgramData\\\\Anaconda3\\\\;%USERPROFILE%\\\\AppData\\\\Local\\\\Microsoft\\\\WindowsApps;'"
      ]
     },
     "execution_count": 7,
     "metadata": {},
     "output_type": "execute_result"
    }
   ],
   "source": [
    "myenv = %env\n",
    "print(type(myenv))\n",
    "print(myenv['PATH'])\n",
    "%env PATH"
   ]
  },
  {
   "cell_type": "code",
   "execution_count": 11,
   "metadata": {
    "scrolled": true
   },
   "outputs": [
    {
     "name": "stdout",
     "output_type": "stream",
     "text": [
      "\n",
      "Pinging www.google.com [172.217.0.132] with 32 bytes of data:\n",
      "Reply from 172.217.0.132: bytes=32 time=17ms TTL=111\n",
      "Reply from 172.217.0.132: bytes=32 time=16ms TTL=111\n",
      "Reply from 172.217.0.132: bytes=32 time=17ms TTL=111\n",
      "Reply from 172.217.0.132: bytes=32 time=17ms TTL=111\n",
      "\n",
      "Ping statistics for 172.217.0.132:\n",
      "    Packets: Sent = 4, Received = 4, Lost = 0 (0% loss),\n",
      "Approximate round trip times in milli-seconds:\n",
      "    Minimum = 16ms, Maximum = 17ms, Average = 16ms\n"
     ]
    },
    {
     "data": {
      "text/plain": [
       "[' Volume in drive C has no label.',\n",
       " ' Volume Serial Number is B832-E9ED',\n",
       " '',\n",
       " ' Directory of C:\\\\Users\\\\cwod_admin\\\\PYT200\\\\ClassFiles',\n",
       " '',\n",
       " '01/06/2021  06:45 PM    <DIR>          .',\n",
       " '01/06/2021  06:45 PM    <DIR>          ..',\n",
       " '01/06/2021  05:53 PM    <DIR>          .ipynb_checkpoints',\n",
       " '01/06/2021  05:05 PM    <DIR>          advanced-python-concepts',\n",
       " '01/06/2021  05:05 PM    <DIR>          classes-objects',\n",
       " '08/09/2018  03:03 PM             1,909 create_notebooks.py',\n",
       " '08/09/2018  03:03 PM             2,450 Find File.ipynb',\n",
       " '08/09/2018  03:03 PM             1,223 find_file.py',\n",
       " '01/06/2021  05:05 PM    <DIR>          ipython-notebook',\n",
       " '01/06/2021  06:45 PM             4,746 My First Notebook.ipynb',\n",
       " '01/06/2021  05:05 PM    <DIR>          PYT211-exam',\n",
       " '01/06/2021  05:05 PM    <DIR>          regular-expressions',\n",
       " '01/06/2021  05:05 PM    <DIR>          testing-debugging',\n",
       " '01/06/2021  05:05 PM    <DIR>          unicode-encoding',\n",
       " '01/06/2021  05:05 PM    <DIR>          working-with-data',\n",
       " '               4 File(s)         10,328 bytes',\n",
       " '              11 Dir(s)  20,461,408,256 bytes free']"
      ]
     },
     "execution_count": 11,
     "metadata": {},
     "output_type": "execute_result"
    }
   ],
   "source": [
    "!ping www.google.com\n",
    "\n",
    "%system dir\n",
    "%sx dir\n",
    "!!dir"
   ]
  },
  {
   "cell_type": "code",
   "execution_count": null,
   "metadata": {},
   "outputs": [],
   "source": []
  }
 ],
 "metadata": {
  "kernelspec": {
   "display_name": "Python 3",
   "language": "python",
   "name": "python3"
  },
  "language_info": {
   "codemirror_mode": {
    "name": "ipython",
    "version": 3
   },
   "file_extension": ".py",
   "mimetype": "text/x-python",
   "name": "python",
   "nbconvert_exporter": "python",
   "pygments_lexer": "ipython3",
   "version": "3.6.5"
  }
 },
 "nbformat": 4,
 "nbformat_minor": 2
}
