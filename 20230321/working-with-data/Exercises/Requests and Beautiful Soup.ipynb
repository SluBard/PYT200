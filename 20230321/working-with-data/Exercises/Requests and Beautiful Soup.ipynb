{
 "cells": [
  {
   "cell_type": "markdown",
   "metadata": {},
   "source": [
    "# Requests and Beautiful Soup"
   ]
  },
  {
   "cell_type": "code",
   "execution_count": 15,
   "metadata": {},
   "outputs": [
    {
     "name": "stdout",
     "output_type": "stream",
     "text": [
      "Enter a state abbreviation: MO\n",
      "\t 1 Josh Hawley\n",
      "\t 2 Eric Schmitt\n"
     ]
    }
   ],
   "source": [
    "import requests\n",
    "from bs4 import BeautifulSoup\n",
    "import re\n",
    "\n",
    "#url = 'https://www.senate.gov/general/contact_information/senators_cfm.cfm'\n",
    "headers = {'user-agent': 'my-app/0.0.1'}\n",
    "\n",
    "state = input(\"Enter a state abbreviation: \")\n",
    "url = 'https://www.senate.gov/'+state+\"/intro.htm\"\n",
    "\n",
    "# Finish the code\n",
    "r = requests.get(url, headers=headers)\n",
    "content = r.text\n",
    "\n",
    "soup = BeautifulSoup(content, 'html.parser')\n",
    "\n",
    "senators = soup.find_all('a',href = re.compile('senate.gov/?$'),target=\"_blank\")\n",
    "\n",
    "i=1                        \n",
    "for senator in senators:\n",
    "    person = senator.text.strip()\n",
    "    if person != 'Contact':  # Pesky row that we need to ignore\n",
    "        print(\"\\t\",i, person)\n",
    "        i += 1"
   ]
  },
  {
   "cell_type": "markdown",
   "metadata": {},
   "source": [
    "## Challenge"
   ]
  },
  {
   "cell_type": "code",
   "execution_count": 16,
   "metadata": {},
   "outputs": [
    {
     "data": {
      "text/plain": [
       "[('John', 8), ('Mike', 4), ('Mark', 2)]"
      ]
     },
     "execution_count": 16,
     "metadata": {},
     "output_type": "execute_result"
    }
   ],
   "source": [
    "from collections import Counter\n",
    "\n",
    "# finish the code\n",
    "import requests\n",
    "from bs4 import BeautifulSoup\n",
    "import re\n",
    "\n",
    "url = 'https://www.senate.gov/general/contact_information/senators_cfm.cfm'\n",
    "headers = {'user-agent': 'my-app/0.0.1'}\n",
    "r = requests.get(url, headers=headers)\n",
    "content = r.text\n",
    "\n",
    "soup = BeautifulSoup(content, 'html.parser')\n",
    "\n",
    "states = soup.find_all('option', value = re.compile('/intro.htm$'))\n",
    "\n",
    "# dont know why we have 100 states, so we are truncating\n",
    "states = states[:50]\n",
    "\n",
    "firstnames=[]\n",
    "for state in states:\n",
    "        state_url = 'https://www.senate.gov'+state.attrs['value']\n",
    "        req = requests.get(state_url,headers=headers)\n",
    "        state_content = req.text\n",
    "        soup = BeautifulSoup(state_content,'html.parser')\n",
    "        senators = soup.find_all('a',href = re.compile('senate.gov/?$'),target=\"_blank\")\n",
    "\n",
    "        for senator in senators:\n",
    "            person = senator.text.strip()\n",
    "            if person != 'Contact':  # Pesky row that we need to ignore\n",
    "                firstnames.append(person.split()[0])\n",
    "\n",
    "Counter(firstnames).most_common(3)"
   ]
  }
 ],
 "metadata": {
  "kernelspec": {
   "display_name": "Python 3",
   "language": "python",
   "name": "python3"
  },
  "language_info": {
   "codemirror_mode": {
    "name": "ipython",
    "version": 3
   },
   "file_extension": ".py",
   "mimetype": "text/x-python",
   "name": "python",
   "nbconvert_exporter": "python",
   "pygments_lexer": "ipython3",
   "version": "3.7.6"
  }
 },
 "nbformat": 4,
 "nbformat_minor": 1
}
