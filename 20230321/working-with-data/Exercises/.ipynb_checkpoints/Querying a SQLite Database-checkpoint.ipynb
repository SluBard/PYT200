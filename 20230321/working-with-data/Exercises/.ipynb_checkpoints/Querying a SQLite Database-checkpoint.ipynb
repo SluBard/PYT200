{
 "cells": [
  {
   "cell_type": "markdown",
   "metadata": {},
   "source": [
    "# Querying a SQLite Database"
   ]
  },
  {
   "cell_type": "code",
   "execution_count": 1,
   "metadata": {},
   "outputs": [
    {
     "data": {
      "text/plain": [
       "[('Walter', 'Young', 320, '2005'),\n",
       " ('Jumbo', 'Diaz', 315, '2014'),\n",
       " ('Jumbo', 'Brown', 295, '1925'),\n",
       " ('Jonathan', 'Broxton', 295, '2005'),\n",
       " ('Dmitri', 'Young', 295, '1996')]"
      ]
     },
     "execution_count": 1,
     "metadata": {},
     "output_type": "execute_result"
    }
   ],
   "source": [
    "import sqlite3\n",
    "connection = sqlite3.connect('../lahman2014.sqlite')\n",
    "\n",
    "query = '''SELECT nameFirst, nameLast, weight, strftime('%Y', debut / 1000, 'unixepoch')\n",
    "FROM master\n",
    "ORDER BY weight DESC\n",
    "LIMIT 5'''\n",
    "\n",
    "# YOUR CODE HERE\n",
    "cursor = connection.cursor()\n",
    "cursor.execute(query)\n",
    "results = cursor.fetchall()\n",
    "cursor.close()\n",
    "connection.close()\n",
    "\n",
    "results"
   ]
  },
  {
   "cell_type": "markdown",
   "metadata": {},
   "source": [
    "## Challenge: Make Output Pretty"
   ]
  },
  {
   "cell_type": "code",
   "execution_count": 2,
   "metadata": {},
   "outputs": [
    {
     "name": "stdout",
     "output_type": "stream",
     "text": [
      "Walter Young weighted 320 pounds when he started his MLB career in 2005.\n",
      "Jumbo Diaz weighted 315 pounds when he started his MLB career in 2014.\n",
      "Jumbo Brown weighted 295 pounds when he started his MLB career in 1925.\n",
      "Jonathan Broxton weighted 295 pounds when he started his MLB career in 2005.\n",
      "Dmitri Young weighted 295 pounds when he started his MLB career in 1996.\n"
     ]
    }
   ],
   "source": [
    "# YOUR CODE HERE\n",
    "for rec in results:\n",
    "    print(\"{} {} weighted {} pounds when he started his MLB career in {}.\".format(rec[0],rec[1],rec[2],rec[3]))"
   ]
  }
 ],
 "metadata": {
  "kernelspec": {
   "display_name": "Python 3",
   "language": "python",
   "name": "python3"
  },
  "language_info": {
   "codemirror_mode": {
    "name": "ipython",
    "version": 3
   },
   "file_extension": ".py",
   "mimetype": "text/x-python",
   "name": "python",
   "nbconvert_exporter": "python",
   "pygments_lexer": "ipython3",
   "version": "3.7.6"
  }
 },
 "nbformat": 4,
 "nbformat_minor": 1
}
