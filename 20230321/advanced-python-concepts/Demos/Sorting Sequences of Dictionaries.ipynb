{
 "cells": [
  {
   "cell_type": "code",
   "execution_count": 1,
   "metadata": {},
   "outputs": [
    {
     "data": {
      "text/plain": [
       "[{'fname': 'Winston', 'lname': 'Churchill', 'dob': datetime.date(1889, 4, 20)},\n",
       " {'fname': 'Charles', 'lname': 'de Gaulle', 'dob': datetime.date(1883, 7, 29)},\n",
       " {'fname': 'Adolph', 'lname': 'Hitler', 'dob': datetime.date(1890, 11, 22)},\n",
       " {'fname': 'Benito', 'lname': 'Mussolini', 'dob': datetime.date(1882, 1, 30)},\n",
       " {'fname': 'Franklin',\n",
       "  'lname': 'Roosevelt',\n",
       "  'dob': datetime.date(1884, 12, 30)},\n",
       " {'fname': 'Joseph', 'lname': 'Stalin', 'dob': datetime.date(1878, 12, 18)},\n",
       " {'fname': 'Hideki', 'lname': 'Tojo', 'dob': datetime.date(1874, 11, 30)}]"
      ]
     },
     "execution_count": 1,
     "metadata": {},
     "output_type": "execute_result"
    }
   ],
   "source": [
    "from datetime import date\n",
    "ww2_leaders = []\n",
    "ww2_leaders.append({'fname':'Winston', 'lname':'Churchill', 'dob':date(1889,4,20)})\n",
    "ww2_leaders.append({'fname':'Charles', 'lname':'de Gaulle', 'dob':date(1883,7,29)})\n",
    "ww2_leaders.append({'fname':'Adolph', 'lname':'Hitler', 'dob':date(1890,11,22)})\n",
    "ww2_leaders.append({'fname':'Benito', 'lname':'Mussolini', 'dob':date(1882,1,30)})\n",
    "ww2_leaders.append({'fname':'Franklin', 'lname':'Roosevelt', 'dob':date(1884,12,30)})\n",
    "ww2_leaders.append({'fname':'Joseph', 'lname':'Stalin', 'dob':date(1878,12,18)})\n",
    "ww2_leaders.append({'fname':'Hideki', 'lname':'Tojo', 'dob':date(1874,11,30)})\n",
    "ww2_leaders"
   ]
  },
  {
   "cell_type": "code",
   "execution_count": 2,
   "metadata": {},
   "outputs": [
    {
     "data": {
      "text/plain": [
       "[{'fname': 'Hideki', 'lname': 'Tojo', 'dob': datetime.date(1874, 11, 30)},\n",
       " {'fname': 'Joseph', 'lname': 'Stalin', 'dob': datetime.date(1878, 12, 18)},\n",
       " {'fname': 'Benito', 'lname': 'Mussolini', 'dob': datetime.date(1882, 1, 30)},\n",
       " {'fname': 'Charles', 'lname': 'de Gaulle', 'dob': datetime.date(1883, 7, 29)},\n",
       " {'fname': 'Franklin',\n",
       "  'lname': 'Roosevelt',\n",
       "  'dob': datetime.date(1884, 12, 30)},\n",
       " {'fname': 'Winston', 'lname': 'Churchill', 'dob': datetime.date(1889, 4, 20)},\n",
       " {'fname': 'Adolph', 'lname': 'Hitler', 'dob': datetime.date(1890, 11, 22)}]"
      ]
     },
     "execution_count": 2,
     "metadata": {},
     "output_type": "execute_result"
    }
   ],
   "source": [
    "ww2_leaders.sort(key=lambda leader: leader['dob'])\n",
    "ww2_leaders"
   ]
  },
  {
   "cell_type": "code",
   "execution_count": 4,
   "metadata": {},
   "outputs": [
    {
     "data": {
      "text/plain": [
       "[{'fname': 'Winston', 'lname': 'Churchill', 'dob': datetime.date(1889, 4, 20)},\n",
       " {'fname': 'Charles', 'lname': 'de Gaulle', 'dob': datetime.date(1883, 7, 29)},\n",
       " {'fname': 'Adolph', 'lname': 'Hitler', 'dob': datetime.date(1890, 11, 22)},\n",
       " {'fname': 'Benito', 'lname': 'Mussolini', 'dob': datetime.date(1882, 1, 30)},\n",
       " {'fname': 'Franklin',\n",
       "  'lname': 'Roosevelt',\n",
       "  'dob': datetime.date(1884, 12, 30)},\n",
       " {'fname': 'Joseph', 'lname': 'Stalin', 'dob': datetime.date(1878, 12, 18)},\n",
       " {'fname': 'Hideki', 'lname': 'Tojo', 'dob': datetime.date(1874, 11, 30)}]"
      ]
     },
     "execution_count": 4,
     "metadata": {},
     "output_type": "execute_result"
    }
   ],
   "source": [
    "ww2_leaders.sort(key=lambda leader: (leader['lname'].lower(), leader['fname']) )\n",
    "ww2_leaders"
   ]
  },
  {
   "cell_type": "code",
   "execution_count": 5,
   "metadata": {},
   "outputs": [
    {
     "data": {
      "text/plain": [
       "[{'fname': 'Winston', 'lname': 'Churchill', 'dob': datetime.date(1889, 4, 20)},\n",
       " {'fname': 'Adolph', 'lname': 'Hitler', 'dob': datetime.date(1890, 11, 22)},\n",
       " {'fname': 'Benito', 'lname': 'Mussolini', 'dob': datetime.date(1882, 1, 30)},\n",
       " {'fname': 'Franklin',\n",
       "  'lname': 'Roosevelt',\n",
       "  'dob': datetime.date(1884, 12, 30)},\n",
       " {'fname': 'Joseph', 'lname': 'Stalin', 'dob': datetime.date(1878, 12, 18)},\n",
       " {'fname': 'Hideki', 'lname': 'Tojo', 'dob': datetime.date(1874, 11, 30)},\n",
       " {'fname': 'Charles', 'lname': 'de Gaulle', 'dob': datetime.date(1883, 7, 29)}]"
      ]
     },
     "execution_count": 5,
     "metadata": {},
     "output_type": "execute_result"
    }
   ],
   "source": [
    "from operator import itemgetter\n",
    "ww2_leaders.sort(key=itemgetter('lname','fname'))\n",
    "ww2_leaders"
   ]
  }
 ],
 "metadata": {
  "kernelspec": {
   "display_name": "Python 3",
   "language": "python",
   "name": "python3"
  },
  "language_info": {
   "codemirror_mode": {
    "name": "ipython",
    "version": 3
   },
   "file_extension": ".py",
   "mimetype": "text/x-python",
   "name": "python",
   "nbconvert_exporter": "python",
   "pygments_lexer": "ipython3",
   "version": "3.7.6"
  }
 },
 "nbformat": 4,
 "nbformat_minor": 1
}
