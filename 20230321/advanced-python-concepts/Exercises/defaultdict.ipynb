{
 "cells": [
  {
   "cell_type": "markdown",
   "metadata": {},
   "source": [
    "# Using a defaultdict to Organize Yankees by Position"
   ]
  },
  {
   "cell_type": "code",
   "execution_count": 3,
   "metadata": {},
   "outputs": [],
   "source": [
    "yankees_1927 = [\n",
    "    {'position': 'P', 'name': 'Walter Beall'},\n",
    "    {'position': 'C', 'name': 'Benny Bengough'},\n",
    "    {'position': 'C', 'name': 'Pat Collins'},\n",
    "    {'position': 'OF', 'name': 'Earle Combs'},\n",
    "    {'position': '3B', 'name': 'Joe Dugan'},\n",
    "    {'position': 'OF', 'name': 'Cedric Durst'},\n",
    "    {'position': '3B', 'name': 'Mike Gazella'},\n",
    "    {'position': '1B', 'name': 'Lou Gehrig'},\n",
    "    {'position': 'P', 'name': 'Joe Giard'},\n",
    "    {'position': 'C', 'name': 'Johnny Grabowski'},\n",
    "    {'position': 'P', 'name': 'Waite Hoyt'},\n",
    "    {'position': 'SS', 'name': 'Mark Koenig'},\n",
    "    {'position': '2B', 'name': 'Tony Lazzeri'},\n",
    "    {'position': 'OF', 'name': 'Bob Meusel'},\n",
    "    {'position': 'P', 'name': 'Wilcy Moore'},\n",
    "    {'position': '2B', 'name': 'Ray Morehart'},\n",
    "    {'position': 'OF', 'name': 'Ben Paschal'},\n",
    "    {'position': 'P', 'name': 'Herb Pennock'},\n",
    "    {'position': 'P', 'name': 'George Pipgras'},\n",
    "    {'position': 'P', 'name': 'Dutch Ruether'},\n",
    "    {'position': 'OF', 'name': 'Babe Ruth'},\n",
    "    {'position': 'P', 'name': 'Bob Shawkey'},\n",
    "    {'position': 'P', 'name': 'Urban Shocker'},\n",
    "    {'position': 'P', 'name': 'Myles Thomas'},\n",
    "    {'position': '3B', 'name': 'Julie Wera'}\n",
    "]"
   ]
  },
  {
   "cell_type": "code",
   "execution_count": 6,
   "metadata": {},
   "outputs": [
    {
     "name": "stdout",
     "output_type": "stream",
     "text": [
      "P Walter Beall\n",
      "C Benny Bengough\n",
      "C Pat Collins\n",
      "OF Earle Combs\n",
      "3B Joe Dugan\n",
      "OF Cedric Durst\n",
      "3B Mike Gazella\n",
      "1B Lou Gehrig\n",
      "P Joe Giard\n",
      "C Johnny Grabowski\n",
      "P Waite Hoyt\n",
      "SS Mark Koenig\n",
      "2B Tony Lazzeri\n",
      "OF Bob Meusel\n",
      "P Wilcy Moore\n",
      "2B Ray Morehart\n",
      "OF Ben Paschal\n",
      "P Herb Pennock\n",
      "P George Pipgras\n",
      "P Dutch Ruether\n",
      "OF Babe Ruth\n",
      "P Bob Shawkey\n",
      "P Urban Shocker\n",
      "P Myles Thomas\n",
      "3B Julie Wera\n"
     ]
    }
   ],
   "source": [
    "for d in yankees_1927:\n",
    "    print(d['position'],d['name'])"
   ]
  },
  {
   "cell_type": "code",
   "execution_count": 11,
   "metadata": {},
   "outputs": [
    {
     "name": "stdout",
     "output_type": "stream",
     "text": [
      "Checking to see if P key is already in dictionary\n",
      "\tKey NOT found, adding Walter Beall for key P\n",
      "Checking to see if C key is already in dictionary\n",
      "\tKey NOT found, adding Benny Bengough for key C\n",
      "Checking to see if C key is already in dictionary\n",
      "\tKey found, adding Pat Collins\n",
      "Checking to see if OF key is already in dictionary\n",
      "\tKey NOT found, adding Earle Combs for key OF\n",
      "Checking to see if 3B key is already in dictionary\n",
      "\tKey NOT found, adding Joe Dugan for key 3B\n",
      "Checking to see if OF key is already in dictionary\n",
      "\tKey found, adding Cedric Durst\n",
      "Checking to see if 3B key is already in dictionary\n",
      "\tKey found, adding Mike Gazella\n",
      "Checking to see if 1B key is already in dictionary\n",
      "\tKey NOT found, adding Lou Gehrig for key 1B\n",
      "Checking to see if P key is already in dictionary\n",
      "\tKey found, adding Joe Giard\n",
      "Checking to see if C key is already in dictionary\n",
      "\tKey found, adding Johnny Grabowski\n",
      "Checking to see if P key is already in dictionary\n",
      "\tKey found, adding Waite Hoyt\n",
      "Checking to see if SS key is already in dictionary\n",
      "\tKey NOT found, adding Mark Koenig for key SS\n",
      "Checking to see if 2B key is already in dictionary\n",
      "\tKey NOT found, adding Tony Lazzeri for key 2B\n",
      "Checking to see if OF key is already in dictionary\n",
      "\tKey found, adding Bob Meusel\n",
      "Checking to see if P key is already in dictionary\n",
      "\tKey found, adding Wilcy Moore\n",
      "Checking to see if 2B key is already in dictionary\n",
      "\tKey found, adding Ray Morehart\n",
      "Checking to see if OF key is already in dictionary\n",
      "\tKey found, adding Ben Paschal\n",
      "Checking to see if P key is already in dictionary\n",
      "\tKey found, adding Herb Pennock\n",
      "Checking to see if P key is already in dictionary\n",
      "\tKey found, adding George Pipgras\n",
      "Checking to see if P key is already in dictionary\n",
      "\tKey found, adding Dutch Ruether\n",
      "Checking to see if OF key is already in dictionary\n",
      "\tKey found, adding Babe Ruth\n",
      "Checking to see if P key is already in dictionary\n",
      "\tKey found, adding Bob Shawkey\n",
      "Checking to see if P key is already in dictionary\n",
      "\tKey found, adding Urban Shocker\n",
      "Checking to see if P key is already in dictionary\n",
      "\tKey found, adding Myles Thomas\n",
      "Checking to see if 3B key is already in dictionary\n",
      "\tKey found, adding Julie Wera\n"
     ]
    },
    {
     "data": {
      "text/plain": [
       "{'P': ['Walter Beall',\n",
       "  'Joe Giard',\n",
       "  'Waite Hoyt',\n",
       "  'Wilcy Moore',\n",
       "  'Herb Pennock',\n",
       "  'George Pipgras',\n",
       "  'Dutch Ruether',\n",
       "  'Bob Shawkey',\n",
       "  'Urban Shocker',\n",
       "  'Myles Thomas'],\n",
       " 'C': ['Benny Bengough', 'Pat Collins', 'Johnny Grabowski'],\n",
       " 'OF': ['Earle Combs',\n",
       "  'Cedric Durst',\n",
       "  'Bob Meusel',\n",
       "  'Ben Paschal',\n",
       "  'Babe Ruth'],\n",
       " '3B': ['Joe Dugan', 'Mike Gazella', 'Julie Wera'],\n",
       " '1B': ['Lou Gehrig'],\n",
       " 'SS': ['Mark Koenig'],\n",
       " '2B': ['Tony Lazzeri', 'Ray Morehart']}"
      ]
     },
     "execution_count": 11,
     "metadata": {},
     "output_type": "execute_result"
    }
   ],
   "source": [
    "\n",
    "d = {}\n",
    "for l in yankees_1927:\n",
    "    \n",
    "    #print(\"Adding player {} to position {}\".format(l['name'],l['position']))\n",
    "    print(\"Checking to see if {} key is already in dictionary\".format(l['position']))\n",
    "    if l['position'] in d:\n",
    "        print(\"\\tKey found, adding {}\".format(l['name']))\n",
    "        d[l['position']].append(l['name'])\n",
    "    else:\n",
    "        print(\"\\tKey NOT found, adding {} for key {}\".format(l['name'],l['position']))\n",
    "        d[l['position']]=[l['name']] #list(l['name'])\n",
    "\n",
    "d"
   ]
  },
  {
   "cell_type": "code",
   "execution_count": 4,
   "metadata": {},
   "outputs": [
    {
     "name": "stdout",
     "output_type": "stream",
     "text": [
      "Adding player Walter Beall to position P\n",
      "Adding player Benny Bengough to position C\n",
      "Adding player Pat Collins to position C\n",
      "Adding player Earle Combs to position OF\n",
      "Adding player Joe Dugan to position 3B\n",
      "Adding player Cedric Durst to position OF\n",
      "Adding player Mike Gazella to position 3B\n",
      "Adding player Lou Gehrig to position 1B\n",
      "Adding player Joe Giard to position P\n",
      "Adding player Johnny Grabowski to position C\n",
      "Adding player Waite Hoyt to position P\n",
      "Adding player Mark Koenig to position SS\n",
      "Adding player Tony Lazzeri to position 2B\n",
      "Adding player Bob Meusel to position OF\n",
      "Adding player Wilcy Moore to position P\n",
      "Adding player Ray Morehart to position 2B\n",
      "Adding player Ben Paschal to position OF\n",
      "Adding player Herb Pennock to position P\n",
      "Adding player George Pipgras to position P\n",
      "Adding player Dutch Ruether to position P\n",
      "Adding player Babe Ruth to position OF\n",
      "Adding player Bob Shawkey to position P\n",
      "Adding player Urban Shocker to position P\n",
      "Adding player Myles Thomas to position P\n",
      "Adding player Julie Wera to position 3B\n"
     ]
    },
    {
     "data": {
      "text/plain": [
       "defaultdict(list,\n",
       "            {'P': ['Walter Beall',\n",
       "              'Joe Giard',\n",
       "              'Waite Hoyt',\n",
       "              'Wilcy Moore',\n",
       "              'Herb Pennock',\n",
       "              'George Pipgras',\n",
       "              'Dutch Ruether',\n",
       "              'Bob Shawkey',\n",
       "              'Urban Shocker',\n",
       "              'Myles Thomas'],\n",
       "             'C': ['Benny Bengough', 'Pat Collins', 'Johnny Grabowski'],\n",
       "             'OF': ['Earle Combs',\n",
       "              'Cedric Durst',\n",
       "              'Bob Meusel',\n",
       "              'Ben Paschal',\n",
       "              'Babe Ruth'],\n",
       "             '3B': ['Joe Dugan', 'Mike Gazella', 'Julie Wera'],\n",
       "             '1B': ['Lou Gehrig'],\n",
       "             'SS': ['Mark Koenig'],\n",
       "             '2B': ['Tony Lazzeri', 'Ray Morehart']})"
      ]
     },
     "execution_count": 4,
     "metadata": {},
     "output_type": "execute_result"
    }
   ],
   "source": [
    "from collections import defaultdict\n",
    "dd = defaultdict(list)\n",
    "for d in yankees_1927:\n",
    "    print(\"Adding player {} to position {}\".format(d['name'],d['position']))\n",
    "    dd[d['position']].append(d['name'])\n",
    "dd\n",
    "    "
   ]
  }
 ],
 "metadata": {
  "kernelspec": {
   "display_name": "Python 3",
   "language": "python",
   "name": "python3"
  },
  "language_info": {
   "codemirror_mode": {
    "name": "ipython",
    "version": 3
   },
   "file_extension": ".py",
   "mimetype": "text/x-python",
   "name": "python",
   "nbconvert_exporter": "python",
   "pygments_lexer": "ipython3",
   "version": "3.7.6"
  }
 },
 "nbformat": 4,
 "nbformat_minor": 1
}
