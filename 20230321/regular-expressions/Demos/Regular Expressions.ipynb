{
 "cells": [
  {
   "cell_type": "markdown",
   "metadata": {},
   "source": [
    "## Getting Started"
   ]
  },
  {
   "cell_type": "code",
   "execution_count": 2,
   "metadata": {},
   "outputs": [],
   "source": [
    "import re"
   ]
  },
  {
   "cell_type": "code",
   "execution_count": 3,
   "metadata": {},
   "outputs": [
    {
     "name": "stdout",
     "output_type": "stream",
     "text": [
      "<re.Match object; span=(2, 6), match='rose'>\n"
     ]
    }
   ],
   "source": [
    "p = re.compile(r'r[aeiou]se')\n",
    "result = p.search('A rose is a rose is a rose.')\n",
    "print(result)"
   ]
  },
  {
   "cell_type": "markdown",
   "metadata": {},
   "source": [
    "## Module-level Method"
   ]
  },
  {
   "cell_type": "code",
   "execution_count": 4,
   "metadata": {},
   "outputs": [
    {
     "data": {
      "text/plain": [
       "<re.Match object; span=(2, 6), match='rose'>"
      ]
     },
     "execution_count": 4,
     "metadata": {},
     "output_type": "execute_result"
    }
   ],
   "source": [
    "re.search(r'r[aeiou]se', 'A rose is a rose is a rose.')"
   ]
  },
  {
   "cell_type": "markdown",
   "metadata": {},
   "source": [
    "## Raw String Notation"
   ]
  },
  {
   "cell_type": "code",
   "execution_count": 5,
   "metadata": {},
   "outputs": [
    {
     "name": "stdout",
     "output_type": "stream",
     "text": [
      "a\n",
      "b\n",
      "c\n",
      "a\\nb\\nc\n",
      "a\\nb\\nc\n"
     ]
    }
   ],
   "source": [
    "print('a\\nb\\nc')\n",
    "print('a\\\\nb\\\\nc')\n",
    "print(r'a\\nb\\nc')"
   ]
  },
  {
   "cell_type": "code",
   "execution_count": 6,
   "metadata": {},
   "outputs": [
    {
     "name": "stdout",
     "output_type": "stream",
     "text": [
      "None\n",
      "<re.Match object; span=(0, 3), match='abc'>\n",
      "<re.Match object; span=(0, 3), match='abc'>\n"
     ]
    }
   ],
   "source": [
    "cooked = re.search('\\babc\\b','''abc''')\n",
    "cookedandprepped = re.search('\\\\babc\\\\b','''abc''')\n",
    "raw = re.search(r'\\babc\\b','''abc''')\n",
    "print(cooked, cookedandprepped, raw, sep='\\n')"
   ]
  },
  {
   "cell_type": "markdown",
   "metadata": {},
   "source": [
    "## Splitting on a Pattern"
   ]
  },
  {
   "cell_type": "code",
   "execution_count": 7,
   "metadata": {},
   "outputs": [
    {
     "data": {
      "text/plain": [
       "['andré', 'example', 'com']"
      ]
     },
     "execution_count": 7,
     "metadata": {},
     "output_type": "execute_result"
    }
   ],
   "source": [
    "p = re.compile(r'\\W')\n",
    "p.split('andré@example.com')"
   ]
  },
  {
   "cell_type": "markdown",
   "metadata": {},
   "source": [
    "## Flags"
   ]
  },
  {
   "cell_type": "markdown",
   "metadata": {},
   "source": [
    "#### re.IGNORECASE"
   ]
  },
  {
   "cell_type": "code",
   "execution_count": 8,
   "metadata": {},
   "outputs": [
    {
     "data": {
      "text/plain": [
       "['foo']"
      ]
     },
     "execution_count": 8,
     "metadata": {},
     "output_type": "execute_result"
    }
   ],
   "source": [
    "p = re.compile('Foo',re.IGNORECASE)\n",
    "p.findall('foobar')"
   ]
  },
  {
   "cell_type": "markdown",
   "metadata": {},
   "source": [
    "#### re.MULTILINE"
   ]
  },
  {
   "cell_type": "code",
   "execution_count": 9,
   "metadata": {},
   "outputs": [
    {
     "name": "stdout",
     "output_type": "stream",
     "text": [
      "[]\n",
      "['andre@example.com', 'andré@example.com']\n"
     ]
    }
   ],
   "source": [
    "emails = '''andre@example.com\n",
    "andré@example.com'''\n",
    "matches1 = re.findall(r'^\\w+@\\w+\\.\\w+$', emails)\n",
    "matches2 = re.findall(r'^\\w+@\\w+\\.\\w+$', emails, re.MULTILINE)\n",
    "print(matches1, matches2, sep=\"\\n\")"
   ]
  },
  {
   "cell_type": "markdown",
   "metadata": {},
   "source": [
    "#### re.DOTALL"
   ]
  },
  {
   "cell_type": "code",
   "execution_count": 10,
   "metadata": {},
   "outputs": [
    {
     "name": "stdout",
     "output_type": "stream",
     "text": [
      "[]\n",
      "['m\\na']\n"
     ]
    }
   ],
   "source": [
    "emails = '''andre@example.com\n",
    "andré@example.com'''\n",
    "matches1 = re.findall(r'm.a', emails)\n",
    "matches2 = re.findall(r'm.a', emails, re.DOTALL)\n",
    "print(matches1, matches2, sep=\"\\n\")"
   ]
  },
  {
   "cell_type": "markdown",
   "metadata": {},
   "source": [
    "#### re.ASCII"
   ]
  },
  {
   "cell_type": "code",
   "execution_count": 11,
   "metadata": {},
   "outputs": [
    {
     "name": "stdout",
     "output_type": "stream",
     "text": [
      "['andre@example.com']\n",
      "[]\n"
     ]
    }
   ],
   "source": [
    "p = re.compile(r'\\w+@\\w+\\.\\w+',re.ASCII)\n",
    "match1 = p.findall('andre@example.com')\n",
    "match2 = p.findall('andré@example.com')\n",
    "print(match1, match2, sep=\"\\n\")"
   ]
  },
  {
   "cell_type": "markdown",
   "metadata": {},
   "source": [
    "#### re.VERBOSE"
   ]
  },
  {
   "cell_type": "code",
   "execution_count": 12,
   "metadata": {},
   "outputs": [
    {
     "data": {
      "text/plain": [
       "['andre@example.com', 'andré@example.com']"
      ]
     },
     "execution_count": 12,
     "metadata": {},
     "output_type": "execute_result"
    }
   ],
   "source": [
    "pattern = r'''^     #start here\n",
    "            \\w+    #text before the @ symbol\n",
    "            @      #@ symbol\n",
    "            \\w+    #text between the @ and .\n",
    "            \\.     #literal dot\n",
    "            \\w+    #text after .\n",
    "            $      #end here'''\n",
    "emails = '''andre@example.com\n",
    "andré@example.com'''\n",
    "re.findall(pattern, emails, re.VERBOSE|re.MULTILINE)"
   ]
  },
  {
   "cell_type": "markdown",
   "metadata": {},
   "source": [
    "#### re.DEBUG"
   ]
  },
  {
   "cell_type": "code",
   "execution_count": 13,
   "metadata": {
    "scrolled": true
   },
   "outputs": [
    {
     "name": "stdout",
     "output_type": "stream",
     "text": [
      "AT AT_BOUNDARY\n",
      "MAX_REPEAT 0 1\n",
      "  SUBPATTERN 1 0 0\n",
      "    LITERAL 104\n",
      "    LITERAL 116\n",
      "    LITERAL 116\n",
      "    LITERAL 112\n",
      "    MAX_REPEAT 0 1\n",
      "      LITERAL 115\n",
      "    LITERAL 58\n",
      "    LITERAL 47\n",
      "    LITERAL 47\n",
      "SUBPATTERN 2 0 0\n",
      "  MAX_REPEAT 1 MAXREPEAT\n",
      "    IN\n",
      "      CATEGORY CATEGORY_DIGIT\n",
      "      RANGE (97, 122)\n",
      "      LITERAL 46\n",
      "      LITERAL 45\n",
      "LITERAL 46\n",
      "SUBPATTERN 3 0 0\n",
      "  MAX_REPEAT 2 6\n",
      "    IN\n",
      "      RANGE (97, 122)\n",
      "      LITERAL 46\n",
      "MAX_REPEAT 0 MAXREPEAT\n",
      "  SUBPATTERN 4 0 0\n",
      "    MAX_REPEAT 0 MAXREPEAT\n",
      "      IN\n",
      "        LITERAL 47\n",
      "        CATEGORY CATEGORY_WORD\n",
      "        LITERAL 46\n",
      "        LITERAL 45\n",
      "MAX_REPEAT 0 1\n",
      "  LITERAL 47\n",
      "AT AT_BOUNDARY\n",
      "\n",
      "  0. INFO 4 0b0 4 MAXREPEAT (to 5)\n",
      "  5: AT UNI_BOUNDARY\n",
      "  7. REPEAT 28 0 1 (to 36)\n",
      " 11.   MARK 0\n",
      " 13.   LITERAL 0x68 ('h')\n",
      " 15.   LITERAL 0x74 ('t')\n",
      " 17.   LITERAL 0x74 ('t')\n",
      " 19.   LITERAL 0x70 ('p')\n",
      " 21.   REPEAT_ONE 6 0 1 (to 28)\n",
      " 25.     LITERAL 0x73 ('s')\n",
      " 27.     SUCCESS\n",
      " 28:   LITERAL 0x3a (':')\n",
      " 30.   LITERAL 0x2f ('/')\n",
      " 32.   LITERAL 0x2f ('/')\n",
      " 34.   MARK 1\n",
      " 36: MAX_UNTIL\n",
      " 37. MARK 2\n",
      " 39. REPEAT_ONE 15 1 MAXREPEAT (to 55)\n",
      " 43.   IN 10 (to 54)\n",
      " 45.     RANGE 0x2d 0x2e ('-'-'.')\n",
      " 48.     RANGE 0x61 0x7a ('a'-'z')\n",
      " 51.     CATEGORY UNI_DIGIT\n",
      " 53.     FAILURE\n",
      " 54:   SUCCESS\n",
      " 55: MARK 3\n",
      " 57. LITERAL 0x2e ('.')\n",
      " 59. MARK 4\n",
      " 61. REPEAT_ONE 12 2 6 (to 74)\n",
      " 65.   IN 7 (to 73)\n",
      " 67.     RANGE 0x61 0x7a ('a'-'z')\n",
      " 70.     LITERAL 0x2e ('.')\n",
      " 72.     FAILURE\n",
      " 73:   SUCCESS\n",
      " 74: MARK 5\n",
      " 76. REPEAT 20 0 MAXREPEAT (to 97)\n",
      " 80.   MARK 6\n",
      " 82.   REPEAT_ONE 12 0 MAXREPEAT (to 95)\n",
      " 86.     IN 7 (to 94)\n",
      " 88.       RANGE 0x2d 0x2f ('-'-'/')\n",
      " 91.       CATEGORY UNI_WORD\n",
      " 93.       FAILURE\n",
      " 94:     SUCCESS\n",
      " 95:   MARK 7\n",
      " 97: MAX_UNTIL\n",
      " 98. REPEAT_ONE 6 0 1 (to 105)\n",
      "102.   LITERAL 0x2f ('/')\n",
      "104.   SUCCESS\n",
      "105: AT UNI_BOUNDARY\n",
      "107. SUCCESS\n"
     ]
    }
   ],
   "source": [
    "p = re.compile(r'\\b(https?:\\/\\/)?([\\da-z\\.-]+)\\.([a-z\\.]{2,6})([\\/\\w\\.-]*)*\\/?\\b',re.DEBUG)"
   ]
  },
  {
   "cell_type": "markdown",
   "metadata": {},
   "source": [
    "## Groups"
   ]
  },
  {
   "cell_type": "code",
   "execution_count": 14,
   "metadata": {},
   "outputs": [
    {
     "name": "stdout",
     "output_type": "stream",
     "text": [
      "andre@example.com\n",
      "andre\n",
      "example.com\n",
      "com\n",
      "('andre', 'example.com', 'com')\n"
     ]
    }
   ],
   "source": [
    "p = re.compile(r'(\\w+)@(\\w+\\.(\\w+))')\n",
    "match = p.match('andre@example.com')\n",
    "email = match.group(0)\n",
    "handle = match.group(1)\n",
    "domain = match.group(2)\n",
    "domain_type = match.group(3)\n",
    "print(email, handle, domain, domain_type, sep='\\n')\n",
    "\n",
    "print(match.groups())"
   ]
  },
  {
   "cell_type": "code",
   "execution_count": 15,
   "metadata": {},
   "outputs": [
    {
     "name": "stdout",
     "output_type": "stream",
     "text": [
      "andre@example.com\n",
      "andre\n",
      "example.com\n",
      "com\n"
     ]
    }
   ],
   "source": [
    "p = re.compile(r'(?P<handle>\\w+)@(?P<domain>\\w+\\.(?P<domain_type>\\w+))')\n",
    "match = p.match('andre@example.com')\n",
    "email = match.group(0)\n",
    "handle = match.group('handle')\n",
    "domain = match.group('domain')\n",
    "domain_type = match.group('domain_type')\n",
    "print(email, handle, domain, domain_type, sep='\\n')"
   ]
  },
  {
   "cell_type": "markdown",
   "metadata": {},
   "source": [
    "## sub() with Function"
   ]
  },
  {
   "cell_type": "code",
   "execution_count": 16,
   "metadata": {},
   "outputs": [
    {
     "data": {
      "text/plain": [
       "\"#!$%*@! What a #*&%!^ day I've had. I spent the whole #*@$ day with my ^$#&@*&!$ friend *@^#&%! his &$*@^! socks.\""
      ]
     },
     "execution_count": 16,
     "metadata": {},
     "output_type": "execute_result"
    }
   ],
   "source": [
    "import random\n",
    "def clean_cuss(match):\n",
    "    cuss = match.group(0)\n",
    "    l = len(cuss)\n",
    "    s = '!@#$%^&*'\n",
    "    while l > len(s):\n",
    "        s += s\n",
    "    return ''.join(random.sample(s,l))\n",
    "\n",
    "p = re.compile(r'\\b[a-z]*(stupid|stinky|darn|shucks|crud|slob)[a-z]*\\b', re.IGNORECASE|re.MULTILINE)\n",
    "s = '''Shucks! What a cruddy day I\\'ve had. I spent the whole darn day \\\n",
    "with my slobbiest friend darning his stinky socks.'''\n",
    "result = p.sub(clean_cuss,s)\n",
    "result"
   ]
  }
 ],
 "metadata": {
  "kernelspec": {
   "display_name": "Python 3",
   "language": "python",
   "name": "python3"
  },
  "language_info": {
   "codemirror_mode": {
    "name": "ipython",
    "version": 3
   },
   "file_extension": ".py",
   "mimetype": "text/x-python",
   "name": "python",
   "nbconvert_exporter": "python",
   "pygments_lexer": "ipython3",
   "version": "3.7.6"
  }
 },
 "nbformat": 4,
 "nbformat_minor": 1
}
