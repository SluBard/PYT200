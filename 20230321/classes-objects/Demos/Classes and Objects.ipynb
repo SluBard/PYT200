{
 "cells": [
  {
   "cell_type": "code",
   "execution_count": 1,
   "metadata": {
    "scrolled": true
   },
   "outputs": [
    {
     "data": {
      "text/plain": [
       "(str, True)"
      ]
     },
     "execution_count": 1,
     "metadata": {},
     "output_type": "execute_result"
    }
   ],
   "source": [
    "type('Hello'), isinstance('Hello', str)"
   ]
  },
  {
   "cell_type": "code",
   "execution_count": 3,
   "metadata": {
    "scrolled": true
   },
   "outputs": [
    {
     "data": {
      "text/plain": [
       "(int, True)"
      ]
     },
     "execution_count": 3,
     "metadata": {},
     "output_type": "execute_result"
    }
   ],
   "source": [
    "type(1), isinstance(1, int)"
   ]
  },
  {
   "cell_type": "code",
   "execution_count": 4,
   "metadata": {
    "scrolled": true
   },
   "outputs": [
    {
     "data": {
      "text/plain": [
       "(list, True)"
      ]
     },
     "execution_count": 4,
     "metadata": {},
     "output_type": "execute_result"
    }
   ],
   "source": [
    "type(['a','b','c']), isinstance(['a','b','c'], list)"
   ]
  },
  {
   "cell_type": "code",
   "execution_count": 5,
   "metadata": {},
   "outputs": [
    {
     "data": {
      "text/plain": [
       "(tuple, True)"
      ]
     },
     "execution_count": 5,
     "metadata": {},
     "output_type": "execute_result"
    }
   ],
   "source": [
    "type((1,2,3)), isinstance((1,2,3), tuple)"
   ]
  },
  {
   "cell_type": "code",
   "execution_count": 6,
   "metadata": {
    "scrolled": true
   },
   "outputs": [
    {
     "data": {
      "text/plain": [
       "(dict, True)"
      ]
     },
     "execution_count": 6,
     "metadata": {},
     "output_type": "execute_result"
    }
   ],
   "source": [
    "type({'a':1, 'b':2}), isinstance({'a':1, 'b':2}, dict)"
   ]
  },
  {
   "cell_type": "code",
   "execution_count": 7,
   "metadata": {
    "scrolled": true
   },
   "outputs": [
    {
     "data": {
      "text/plain": [
       "builtin_function_or_method"
      ]
     },
     "execution_count": 7,
     "metadata": {},
     "output_type": "execute_result"
    }
   ],
   "source": [
    "type(print)"
   ]
  },
  {
   "cell_type": "code",
   "execution_count": 10,
   "metadata": {},
   "outputs": [
    {
     "data": {
      "text/plain": [
       "(range, type)"
      ]
     },
     "execution_count": 10,
     "metadata": {},
     "output_type": "execute_result"
    }
   ],
   "source": [
    "age = range(0,100)\n",
    "type(age), type(range)"
   ]
  },
  {
   "cell_type": "code",
   "execution_count": 11,
   "metadata": {},
   "outputs": [
    {
     "data": {
      "text/plain": [
       "(__main__.Player, type, True)"
      ]
     },
     "execution_count": 11,
     "metadata": {},
     "output_type": "execute_result"
    }
   ],
   "source": [
    "class Player:\n",
    "    pass\n",
    "\n",
    "serena = Player()\n",
    "\n",
    "type(serena), type(Player), isinstance(serena, Player)"
   ]
  },
  {
   "cell_type": "code",
   "execution_count": 12,
   "metadata": {
    "scrolled": true
   },
   "outputs": [
    {
     "name": "stdout",
     "output_type": "stream",
     "text": [
      "Hello, Serena Williams!\n"
     ]
    }
   ],
   "source": [
    "class Player:\n",
    "    def __init__(self, name):\n",
    "        self.name = name\n",
    "\n",
    "serena = Player('Serena Williams')\n",
    "\n",
    "print('Hello,', serena.name + '!')"
   ]
  },
  {
   "cell_type": "markdown",
   "metadata": {},
   "source": [
    "## Inheritance"
   ]
  },
  {
   "cell_type": "code",
   "execution_count": 13,
   "metadata": {},
   "outputs": [
    {
     "name": "stdout",
     "output_type": "stream",
     "text": [
      "Hello, my name is George.\n",
      "Hi, I am Ringo.\n",
      "Goodbye!\n",
      "Goodbye!\n"
     ]
    }
   ],
   "source": [
    "class A:\n",
    "    def __init__(self, name):\n",
    "        self.name = name\n",
    "        \n",
    "    def intro(self):\n",
    "        print('Hello, my name is {}.'.format(self.name))\n",
    "    \n",
    "    def outro(self):\n",
    "        print('Goodbye!')\n",
    "\n",
    "class B(A):\n",
    "    def intro(self):\n",
    "        print('Hi, I am {}.'.format(self.name))\n",
    "\n",
    "a = A('George')\n",
    "b = B('Ringo')\n",
    "\n",
    "a.intro()\n",
    "b.intro()\n",
    "a.outro()\n",
    "b.outro()"
   ]
  },
  {
   "cell_type": "code",
   "execution_count": 14,
   "metadata": {},
   "outputs": [
    {
     "name": "stdout",
     "output_type": "stream",
     "text": [
      "['z', 'a', 'b', 'c', 'y']\n"
     ]
    }
   ],
   "source": [
    "class MyList(list):\n",
    "    \"A subclass of list with additional functionality\"\n",
    "    def prepend(self, obj):\n",
    "        \"\"\"prepend obj to list\n",
    "        \n",
    "        Keyword arguments:\n",
    "        obj -- obj to prepend\"\"\"\n",
    "        self.insert(0, obj)\n",
    "        \n",
    "mylist = MyList(['a','b','c'])\n",
    "mylist.append('y')\n",
    "mylist.prepend('z')\n",
    "print(mylist)"
   ]
  },
  {
   "cell_type": "code",
   "execution_count": 15,
   "metadata": {},
   "outputs": [
    {
     "name": "stdout",
     "output_type": "stream",
     "text": [
      "Help on class MyList in module __main__:\n",
      "\n",
      "class MyList(builtins.list)\n",
      " |  MyList(iterable=(), /)\n",
      " |  \n",
      " |  A subclass of list with additional functionality\n",
      " |  \n",
      " |  Method resolution order:\n",
      " |      MyList\n",
      " |      builtins.list\n",
      " |      builtins.object\n",
      " |  \n",
      " |  Methods defined here:\n",
      " |  \n",
      " |  prepend(self, obj)\n",
      " |      prepend obj to list\n",
      " |      \n",
      " |      Keyword arguments:\n",
      " |      obj -- obj to prepend\n",
      " |  \n",
      " |  ----------------------------------------------------------------------\n",
      " |  Data descriptors defined here:\n",
      " |  \n",
      " |  __dict__\n",
      " |      dictionary for instance variables (if defined)\n",
      " |  \n",
      " |  __weakref__\n",
      " |      list of weak references to the object (if defined)\n",
      " |  \n",
      " |  ----------------------------------------------------------------------\n",
      " |  Methods inherited from builtins.list:\n",
      " |  \n",
      " |  __add__(self, value, /)\n",
      " |      Return self+value.\n",
      " |  \n",
      " |  __contains__(self, key, /)\n",
      " |      Return key in self.\n",
      " |  \n",
      " |  __delitem__(self, key, /)\n",
      " |      Delete self[key].\n",
      " |  \n",
      " |  __eq__(self, value, /)\n",
      " |      Return self==value.\n",
      " |  \n",
      " |  __ge__(self, value, /)\n",
      " |      Return self>=value.\n",
      " |  \n",
      " |  __getattribute__(self, name, /)\n",
      " |      Return getattr(self, name).\n",
      " |  \n",
      " |  __getitem__(...)\n",
      " |      x.__getitem__(y) <==> x[y]\n",
      " |  \n",
      " |  __gt__(self, value, /)\n",
      " |      Return self>value.\n",
      " |  \n",
      " |  __iadd__(self, value, /)\n",
      " |      Implement self+=value.\n",
      " |  \n",
      " |  __imul__(self, value, /)\n",
      " |      Implement self*=value.\n",
      " |  \n",
      " |  __init__(self, /, *args, **kwargs)\n",
      " |      Initialize self.  See help(type(self)) for accurate signature.\n",
      " |  \n",
      " |  __iter__(self, /)\n",
      " |      Implement iter(self).\n",
      " |  \n",
      " |  __le__(self, value, /)\n",
      " |      Return self<=value.\n",
      " |  \n",
      " |  __len__(self, /)\n",
      " |      Return len(self).\n",
      " |  \n",
      " |  __lt__(self, value, /)\n",
      " |      Return self<value.\n",
      " |  \n",
      " |  __mul__(self, value, /)\n",
      " |      Return self*value.\n",
      " |  \n",
      " |  __ne__(self, value, /)\n",
      " |      Return self!=value.\n",
      " |  \n",
      " |  __repr__(self, /)\n",
      " |      Return repr(self).\n",
      " |  \n",
      " |  __reversed__(self, /)\n",
      " |      Return a reverse iterator over the list.\n",
      " |  \n",
      " |  __rmul__(self, value, /)\n",
      " |      Return value*self.\n",
      " |  \n",
      " |  __setitem__(self, key, value, /)\n",
      " |      Set self[key] to value.\n",
      " |  \n",
      " |  __sizeof__(self, /)\n",
      " |      Return the size of the list in memory, in bytes.\n",
      " |  \n",
      " |  append(self, object, /)\n",
      " |      Append object to the end of the list.\n",
      " |  \n",
      " |  clear(self, /)\n",
      " |      Remove all items from list.\n",
      " |  \n",
      " |  copy(self, /)\n",
      " |      Return a shallow copy of the list.\n",
      " |  \n",
      " |  count(self, value, /)\n",
      " |      Return number of occurrences of value.\n",
      " |  \n",
      " |  extend(self, iterable, /)\n",
      " |      Extend list by appending elements from the iterable.\n",
      " |  \n",
      " |  index(self, value, start=0, stop=9223372036854775807, /)\n",
      " |      Return first index of value.\n",
      " |      \n",
      " |      Raises ValueError if the value is not present.\n",
      " |  \n",
      " |  insert(self, index, object, /)\n",
      " |      Insert object before index.\n",
      " |  \n",
      " |  pop(self, index=-1, /)\n",
      " |      Remove and return item at index (default last).\n",
      " |      \n",
      " |      Raises IndexError if list is empty or index is out of range.\n",
      " |  \n",
      " |  remove(self, value, /)\n",
      " |      Remove first occurrence of value.\n",
      " |      \n",
      " |      Raises ValueError if the value is not present.\n",
      " |  \n",
      " |  reverse(self, /)\n",
      " |      Reverse *IN PLACE*.\n",
      " |  \n",
      " |  sort(self, /, *, key=None, reverse=False)\n",
      " |      Stable sort *IN PLACE*.\n",
      " |  \n",
      " |  ----------------------------------------------------------------------\n",
      " |  Static methods inherited from builtins.list:\n",
      " |  \n",
      " |  __new__(*args, **kwargs) from builtins.type\n",
      " |      Create and return a new object.  See help(type) for accurate signature.\n",
      " |  \n",
      " |  ----------------------------------------------------------------------\n",
      " |  Data and other attributes inherited from builtins.list:\n",
      " |  \n",
      " |  __hash__ = None\n",
      "\n"
     ]
    }
   ],
   "source": [
    "help(MyList)"
   ]
  },
  {
   "cell_type": "code",
   "execution_count": null,
   "metadata": {},
   "outputs": [],
   "source": [
    "import random\n",
    "\n",
    "class MyRandom(random.Random):\n",
    "    def weighted_choice(self, d):\n",
    "        \"\"\"Returns a key from dict d based on weighted values of dict items\n",
    "        \n",
    "        Keyword arguments:\n",
    "        d (dict)\n",
    "            -- key is value to return\n",
    "            -- value is weight of key\n",
    "        \"\"\"\n",
    "        if not isinstance(d, dict):\n",
    "            raise Exception('d must be a dict.')\n",
    "        options = []\n",
    "        for k,v in d.items():\n",
    "            options += v * [k]\n",
    "            #print(options)\n",
    "        return random.choice(options)"
   ]
  },
  {
   "cell_type": "code",
   "execution_count": null,
   "metadata": {},
   "outputs": [],
   "source": [
    "r = MyRandom()\n",
    "d = {\n",
    "    1: 1,\n",
    "    2: 1,\n",
    "    3: 1,\n",
    "    4: 1,\n",
    "    5: 1,\n",
    "    6: 5   \n",
    "}\n",
    "r.weighted_choice(d)"
   ]
  },
  {
   "cell_type": "markdown",
   "metadata": {},
   "source": [
    "## Extending a Class Method"
   ]
  },
  {
   "cell_type": "code",
   "execution_count": null,
   "metadata": {},
   "outputs": [],
   "source": [
    "class A:\n",
    "    def __init__(self, name):\n",
    "        self.name = name\n",
    "        \n",
    "    def intro(self):\n",
    "        print('Hello, my name is {}.'.format(self.name))\n",
    "    \n",
    "    def outro(self):\n",
    "        print('Goodbye!')\n",
    "\n",
    "class B(A):\n",
    "    def intro(self):\n",
    "        super().intro()\n",
    "        print('It\\'s very nice to meet you.')\n",
    "\n",
    "a = A('George')\n",
    "b = B('Ringo')\n",
    "\n",
    "a.intro()\n",
    "print('-------')\n",
    "b.intro()\n",
    "print('-------')\n",
    "a.outro()\n",
    "b.outro()"
   ]
  },
  {
   "cell_type": "markdown",
   "metadata": {},
   "source": [
    "## Static Methods"
   ]
  },
  {
   "cell_type": "code",
   "execution_count": null,
   "metadata": {},
   "outputs": [],
   "source": [
    "class Triangle:\n",
    "    def __init__(self, sides):\n",
    "        if not self.is_triangle(sides):\n",
    "            raise Exception('Cannot make triangle with those sides.')\n",
    "        self._sides = sides\n",
    "    \n",
    "    @property\n",
    "    def perimeter(self):\n",
    "        return sum(self._sides)\n",
    "    \n",
    "    @property\n",
    "    def area(self):\n",
    "        p = self.perimeter/2\n",
    "        a = self._sides[0]\n",
    "        b = self._sides[1]\n",
    "        c = self._sides[2]\n",
    "        return ( p * (p-a) * (p-b) * (p-c) ) ** .5\n",
    "        \n",
    "    @staticmethod\n",
    "    def is_triangle(sides):\n",
    "        if len(sides) != 3:\n",
    "            return False\n",
    "        sides.sort()\n",
    "        if sides[0] + sides[1] < sides[2]:\n",
    "            return False\n",
    "        return True\n",
    "    \n",
    "good = [3,3,5]\n",
    "bad = [3,3,9]\n",
    "print( Triangle.is_triangle(good) )\n",
    "print( Triangle.is_triangle(bad) )\n",
    "t1 = Triangle(good)\n",
    "print(t1.area)\n",
    "t2 = Triangle(bad)"
   ]
  },
  {
   "cell_type": "markdown",
   "metadata": {},
   "source": [
    "## Class Attributes and Methods"
   ]
  },
  {
   "cell_type": "code",
   "execution_count": null,
   "metadata": {},
   "outputs": [],
   "source": [
    "class A:\n",
    "    foo = 1\n",
    "    bar = 1\n",
    "    def __init__(self):\n",
    "        self.foo = 2\n",
    "    \n",
    "a = A()\n",
    "a.foo, A.foo, a.bar, A.bar"
   ]
  },
  {
   "cell_type": "code",
   "execution_count": null,
   "metadata": {},
   "outputs": [],
   "source": [
    "class A:\n",
    "    foo = ['a','b','c']\n",
    "    def __init__(self):\n",
    "        self.foo.append('d')\n",
    "    \n",
    "a = A()\n",
    "a.foo, A.foo"
   ]
  },
  {
   "cell_type": "code",
   "execution_count": null,
   "metadata": {},
   "outputs": [],
   "source": [
    "class A:\n",
    "    foo = 1\n",
    "    @classmethod\n",
    "    def my_class_method(cls):\n",
    "        cls.foo += 1\n",
    "        return cls.foo\n",
    "\n",
    "x = A.my_class_method()\n",
    "\n",
    "a = A()\n",
    "y = a.my_class_method()\n",
    "\n",
    "x, y"
   ]
  },
  {
   "cell_type": "code",
   "execution_count": null,
   "metadata": {},
   "outputs": [],
   "source": [
    "class Plane:\n",
    "    planes = []\n",
    "    def __init__(self):\n",
    "        self._in_air = False\n",
    "        #self.planes.append(self)\n",
    "        type(self).planes.append(self)\n",
    "    \n",
    "    def take_off(self):\n",
    "        self._in_air = True\n",
    "    \n",
    "    def land(self):\n",
    "        self._in_air = False\n",
    "    \n",
    "    @classmethod\n",
    "    def num_planes(cls):\n",
    "        return len(cls.planes)\n",
    "    \n",
    "    @classmethod\n",
    "    def num_planes_in_air(cls):\n",
    "        return len([plane for plane in cls.planes if plane._in_air])\n",
    "\n",
    "p1 = Plane()\n",
    "p2 = Plane()\n",
    "p3 = Plane()\n",
    "p1.take_off()\n",
    "p2.take_off()\n",
    "p1.land()\n",
    "Plane.num_planes(), Plane.num_planes_in_air()"
   ]
  },
  {
   "cell_type": "code",
   "execution_count": null,
   "metadata": {},
   "outputs": [],
   "source": [
    "class Jet(Plane):\n",
    "    def __init__(self):\n",
    "        self.planes = []\n",
    "        super().__init__()\n",
    "\n",
    "p4 = Jet()\n",
    "p4.take_off()\n",
    "Plane.num_planes(), Plane.num_planes_in_air()"
   ]
  },
  {
   "cell_type": "markdown",
   "metadata": {},
   "source": [
    "## Abstract Classes Methods"
   ]
  },
  {
   "cell_type": "markdown",
   "metadata": {},
   "source": [
    "This is meant to be an abstract class, but is not noted as such:"
   ]
  },
  {
   "cell_type": "code",
   "execution_count": null,
   "metadata": {},
   "outputs": [],
   "source": [
    "class FlyingObject:\n",
    "    flyingobjects = []\n",
    "    def __init__(self):\n",
    "        self._in_air = False\n",
    "        type(self).flyingobjects.append(self)\n",
    "    \n",
    "    def take_off(self):\n",
    "        self._in_air = True\n",
    "    \n",
    "    def land(self):\n",
    "        self._in_air = False\n",
    "    \n",
    "    @classmethod\n",
    "    def num_objects(cls):\n",
    "        return len(cls.flyingobjects)\n",
    "    \n",
    "    @classmethod\n",
    "    def num_objects_in_air(cls):\n",
    "        return len([fo for fo in cls.flyingobjects if fo._in_air])"
   ]
  },
  {
   "cell_type": "markdown",
   "metadata": {},
   "source": [
    "We can create an instance object without error:"
   ]
  },
  {
   "cell_type": "markdown",
   "metadata": {},
   "source": [
    "ufo = FlyingObject()\n",
    "FlyingObject.num_objects()"
   ]
  },
  {
   "cell_type": "markdown",
   "metadata": {},
   "source": [
    "Here we create the same class, but by marking just one method as an abstract method, it makes the whole class abstract:"
   ]
  },
  {
   "cell_type": "code",
   "execution_count": null,
   "metadata": {},
   "outputs": [],
   "source": [
    "import abc\n",
    "class FlyingObject(metaclass=abc.ABCMeta):\n",
    "    flyingobjects = []\n",
    "    def __init__(self):\n",
    "        self._in_air = False\n",
    "        type(self).flyingobjects.append(self)\n",
    "    \n",
    "    @abc.abstractmethod\n",
    "    def take_off(self):\n",
    "        self._in_air = True\n",
    "    \n",
    "    @abc.abstractmethod\n",
    "    def land(self):\n",
    "        self._in_air = False\n",
    "    \n",
    "    @classmethod\n",
    "    def num_objects(cls):\n",
    "        return len(cls.flyingobjects)\n",
    "    \n",
    "    @classmethod\n",
    "    def num_objects_in_air(cls):\n",
    "        return len([fo for fo in cls.flyingobjects if fo._in_air])"
   ]
  },
  {
   "cell_type": "markdown",
   "metadata": {},
   "source": [
    "And so we get an error when we attempt to create an instance object:"
   ]
  },
  {
   "cell_type": "code",
   "execution_count": null,
   "metadata": {},
   "outputs": [],
   "source": [
    "ufo = FlyingObject()"
   ]
  },
  {
   "cell_type": "markdown",
   "metadata": {},
   "source": [
    "Now we attempt to subclass our abstract class without defining the specified abstract method.\n",
    "\n",
    "This results in an error when we try to instantiate a Plane object:"
   ]
  },
  {
   "cell_type": "code",
   "execution_count": null,
   "metadata": {},
   "outputs": [],
   "source": [
    "class Plane(FlyingObject):\n",
    "    @property\n",
    "    def pilot_awake(self):\n",
    "        return True\n",
    "    \n",
    "    def take_off(self):\n",
    "        if self.pilot_awake:\n",
    "            super().take_off()\n",
    "\n",
    "plane = Plane()"
   ]
  },
  {
   "cell_type": "markdown",
   "metadata": {},
   "source": [
    "Here we correctly include the abstract methods. And so we can instantiate it:"
   ]
  },
  {
   "cell_type": "code",
   "execution_count": null,
   "metadata": {},
   "outputs": [],
   "source": [
    "class Plane(FlyingObject):\n",
    "    @property\n",
    "    def pilot_awake(self):\n",
    "        return True\n",
    "    \n",
    "    @property\n",
    "    def over_land(self):\n",
    "        return True\n",
    "    \n",
    "    def take_off(self):\n",
    "        if self.pilot_awake:\n",
    "            super().take_off()\n",
    "        \n",
    "    def land(self):\n",
    "        if self.over_land:\n",
    "            super().land()\n",
    "\n",
    "plane = Plane()\n",
    "plane.take_off()\n",
    "FlyingObject.num_objects()"
   ]
  },
  {
   "cell_type": "markdown",
   "metadata": {},
   "source": [
    "We can create a Bird class and instantiate that too."
   ]
  },
  {
   "cell_type": "code",
   "execution_count": null,
   "metadata": {},
   "outputs": [],
   "source": [
    "class Bird(FlyingObject):\n",
    "    @property\n",
    "    def healthy_wings(self):\n",
    "        return True\n",
    "    \n",
    "    def take_off(self):\n",
    "        if self.healthy_wings:\n",
    "            super().take_off()\n",
    "        \n",
    "    def land(self):\n",
    "        super().land()\n",
    "        \n",
    "bird = Bird()\n",
    "FlyingObject.num_objects(), FlyingObject.num_objects_in_air()"
   ]
  },
  {
   "cell_type": "code",
   "execution_count": null,
   "metadata": {},
   "outputs": [],
   "source": [
    "import random\n",
    "random.random()"
   ]
  },
  {
   "cell_type": "code",
   "execution_count": null,
   "metadata": {},
   "outputs": [],
   "source": [
    "from random import random\n",
    "random()"
   ]
  }
 ],
 "metadata": {
  "kernelspec": {
   "display_name": "Python 3",
   "language": "python",
   "name": "python3"
  },
  "language_info": {
   "codemirror_mode": {
    "name": "ipython",
    "version": 3
   },
   "file_extension": ".py",
   "mimetype": "text/x-python",
   "name": "python",
   "nbconvert_exporter": "python",
   "pygments_lexer": "ipython3",
   "version": "3.7.6"
  }
 },
 "nbformat": 4,
 "nbformat_minor": 1
}
