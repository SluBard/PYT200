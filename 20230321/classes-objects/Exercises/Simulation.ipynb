{
 "cells": [
  {
   "cell_type": "markdown",
   "metadata": {},
   "source": [
    "# Simulation Class"
   ]
  },
  {
   "cell_type": "code",
   "execution_count": 2,
   "metadata": {},
   "outputs": [],
   "source": [
    "import statistics as stats\n",
    "from Die import Die"
   ]
  },
  {
   "cell_type": "code",
   "execution_count": 3,
   "metadata": {},
   "outputs": [
    {
     "data": {
      "text/plain": [
       "(3.529, 3.0, 6, 3.529, 3.0, 6)"
      ]
     },
     "execution_count": 3,
     "metadata": {},
     "output_type": "execute_result"
    }
   ],
   "source": [
    "class Simulation:\n",
    "    def __init__(self, fnct_to_run, iterations):\n",
    "        self._fnct_to_run = fnct_to_run\n",
    "        self._iterations = iterations\n",
    "        self._results = []\n",
    "        self.run()\n",
    "        \n",
    "    def run(self):\n",
    "        for i in range(self._iterations):\n",
    "            result = self._fnct_to_run()\n",
    "            self._results.append(result)\n",
    "    \n",
    "    def get_mean(self):\n",
    "        return stats.mean(self._results)\n",
    "    \n",
    "    def get_median(self):\n",
    "        return stats.median(self._results)\n",
    "    \n",
    "    def get_mode(self):\n",
    "        try:\n",
    "            return stats.mode(self._results)\n",
    "        except:\n",
    "            return None\n",
    "    @property\n",
    "    def mean(self):\n",
    "        return self.get_mean()\n",
    "    @property\n",
    "    def median(self):\n",
    "        return self.get_median()\n",
    "    @property\n",
    "    def mode(self):\n",
    "        return self.get_mode()\n",
    "        \n",
    "die = Die()\n",
    "sim = Simulation(die.roll, 1000)\n",
    "sim.get_mean(), sim.get_median(), sim.get_mode(),sim.mean,sim.median,sim.mode\n"
   ]
  }
 ],
 "metadata": {
  "kernelspec": {
   "display_name": "Python 3",
   "language": "python",
   "name": "python3"
  },
  "language_info": {
   "codemirror_mode": {
    "name": "ipython",
    "version": 3
   },
   "file_extension": ".py",
   "mimetype": "text/x-python",
   "name": "python",
   "nbconvert_exporter": "python",
   "pygments_lexer": "ipython3",
   "version": "3.7.6"
  }
 },
 "nbformat": 4,
 "nbformat_minor": 1
}
