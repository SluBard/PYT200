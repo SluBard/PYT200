{
 "cells": [
  {
   "cell_type": "code",
   "execution_count": 2,
   "metadata": {},
   "outputs": [
    {
     "name": "stdout",
     "output_type": "stream",
     "text": [
      "Hi my name is Bryan\n"
     ]
    }
   ],
   "source": [
    "print(\"Hi my name is {}\".format(\"Bryan\"))"
   ]
  },
  {
   "cell_type": "code",
   "execution_count": 11,
   "metadata": {},
   "outputs": [
    {
     "data": {
      "text/plain": [
       "'C:\\\\Users\\\\ce-student\\\\ClassFiles\\\\PythonAdvancedDataFiles'"
      ]
     },
     "execution_count": 11,
     "metadata": {},
     "output_type": "execute_result"
    }
   ],
   "source": [
    "%pwd"
   ]
  },
  {
   "cell_type": "code",
   "execution_count": 10,
   "metadata": {
    "scrolled": false
   },
   "outputs": [
    {
     "data": {
      "application/javascript": [
       "IPython.notebook.set_autosave_interval(180000)"
      ]
     },
     "metadata": {},
     "output_type": "display_data"
    },
    {
     "name": "stdout",
     "output_type": "stream",
     "text": [
      "Autosaving every 180 seconds\n"
     ]
    }
   ],
   "source": [
    "%autosave 180"
   ]
  },
  {
   "cell_type": "code",
   "execution_count": 12,
   "metadata": {
    "scrolled": true
   },
   "outputs": [
    {
     "name": "stdout",
     "output_type": "stream",
     "text": [
      "C:\\Users\\ce-student\\ClassFiles\\PythonAdvancedDataFiles\\advanced-python-concepts\n"
     ]
    }
   ],
   "source": [
    "%cd advanced-python-concepts\n"
   ]
  },
  {
   "cell_type": "code",
   "execution_count": 9,
   "metadata": {},
   "outputs": [
    {
     "data": {
      "text/plain": [
       "'C:\\\\Users\\\\ce-student\\\\ClassFiles\\\\PythonAdvancedDataFiles'"
      ]
     },
     "execution_count": 9,
     "metadata": {},
     "output_type": "execute_result"
    }
   ],
   "source": [
    "%pwd"
   ]
  },
  {
   "cell_type": "code",
   "execution_count": 3,
   "metadata": {},
   "outputs": [],
   "source": [
    "%bookmark root"
   ]
  },
  {
   "cell_type": "code",
   "execution_count": 4,
   "metadata": {},
   "outputs": [
    {
     "name": "stdout",
     "output_type": "stream",
     "text": [
      "Current bookmarks:\n",
      "root -> C:\\Users\\ce-student\\ClassFiles\\PythonAdvancedDataFiles\n"
     ]
    }
   ],
   "source": [
    "%bookmark -l"
   ]
  },
  {
   "cell_type": "code",
   "execution_count": 5,
   "metadata": {},
   "outputs": [],
   "source": [
    "%bookmark -d root"
   ]
  },
  {
   "cell_type": "code",
   "execution_count": 6,
   "metadata": {},
   "outputs": [
    {
     "name": "stdout",
     "output_type": "stream",
     "text": [
      "Current bookmarks:\n"
     ]
    }
   ],
   "source": [
    "%bookmark -l"
   ]
  },
  {
   "cell_type": "code",
   "execution_count": 7,
   "metadata": {},
   "outputs": [
    {
     "name": "stdout",
     "output_type": "stream",
     "text": [
      " Volume in drive C has no label.\n",
      " Volume Serial Number is BC2F-D785\n",
      "\n",
      " Directory of C:\\Users\\ce-student\\ClassFiles\\PythonAdvancedDataFiles\n",
      "\n",
      "03/21/2023  06:18 PM    <DIR>          .\n",
      "03/21/2023  06:18 PM    <DIR>          ..\n",
      "03/21/2023  05:53 PM    <DIR>          .ipynb_checkpoints\n",
      "04/13/2020  02:01 PM    <DIR>          advanced-python-concepts\n",
      "04/13/2020  02:01 PM    <DIR>          classes-objects\n",
      "08/09/2018  04:03 PM             1,909 create_notebooks.py\n",
      "08/09/2018  04:03 PM             2,450 Find File.ipynb\n",
      "08/09/2018  04:03 PM             1,223 find_file.py\n",
      "04/13/2020  02:01 PM    <DIR>          ipython-notebook\n",
      "04/13/2020  02:01 PM    <DIR>          PYT211-exam\n",
      "04/13/2020  02:01 PM    <DIR>          regular-expressions\n",
      "03/21/2023  06:18 PM             1,910 Test Notebook.ipynb\n",
      "04/13/2020  02:01 PM    <DIR>          testing-debugging\n",
      "04/13/2020  02:01 PM    <DIR>          unicode-encoding\n",
      "04/13/2020  02:01 PM    <DIR>          working-with-data\n",
      "               4 File(s)          7,492 bytes\n",
      "              11 Dir(s)  39,551,696,896 bytes free\n"
     ]
    }
   ],
   "source": [
    "%ls"
   ]
  },
  {
   "cell_type": "code",
   "execution_count": null,
   "metadata": {},
   "outputs": [],
   "source": [
    "# %load create_notebooks.py\n",
    "<cw:File xmlns:cw=\"https://www.webucator.com/Schemas/Courseware\"><![CDATA[import os\n",
    "from json.encoder import JSONEncoder\n",
    "\n",
    "nb_start = '''{\n",
    " \"cells\": [\n",
    "  {\n",
    "   \"cell_type\": \"code\",\n",
    "   \"execution_count\": null,\n",
    "   \"metadata\": {\n",
    "    \"collapsed\": false\n",
    "   },\n",
    "   \"outputs\": [],\n",
    "   \"source\": ['''\n",
    "nb_end =''']\n",
    "  }\n",
    " ],\n",
    " \"metadata\": {\n",
    "  \"kernelspec\": {\n",
    "   \"display_name\": \"Python 3\",\n",
    "   \"language\": \"python\",\n",
    "   \"name\": \"python3\"\n",
    "  },\n",
    "  \"language_info\": {\n",
    "   \"codemirror_mode\": {\n",
    "    \"name\": \"ipython\",\n",
    "    \"version\": 3\n",
    "   },\n",
    "   \"file_extension\": \".py\",\n",
    "   \"mimetype\": \"text/x-python\",\n",
    "   \"name\": \"python\",\n",
    "   \"nbconvert_exporter\": \"python\",\n",
    "   \"pygments_lexer\": \"ipython3\",\n",
    "   \"version\": \"3.4.2\"\n",
    "  }\n",
    " },\n",
    " \"nbformat\": 4,\n",
    " \"nbformat_minor\": 0\n",
    "}'''\n",
    "\n",
    "def main():\n",
    "    print('''This will create IPython Notebook files in place\n",
    "for every Python file in the current directory\\n\\n\\t''' +\n",
    "          os.getcwd() + '''\\n\\nand its subdirectories.\\n''')\n",
    "    confirm = input('Are you sure you want to do this? y/n: ')\n",
    "    if confirm.lower() != 'y':\n",
    "        print('OK. Goodbye.')\n",
    "        return\n",
    "\n",
    "    print('Creating IPython Notebook files...')\n",
    "    for dirpath, dirnames, filenames in os.walk('.'):\n",
    "        for fname in filenames:\n",
    "            path = dirpath+'\\\\'+fname\n",
    "            if fname[-3:] == '.py' and not os.path.samefile(path,'.\\\\create_notebooks.py'):\n",
    "                path = dirpath+'\\\\'+fname\n",
    "                nb_path = path[:-3] + '.ipynb'\n",
    "                with open(path,'r') as f_in:\n",
    "                    f_in_content = JSONEncoder().encode(f_in.read())\n",
    "                    nb_content = nb_start + f_in_content + nb_end\n",
    "                    \n",
    "                    with open(nb_path,'w') as f_out:\n",
    "                        f_out.write(nb_content)\n",
    "                        \n",
    "                print(\"Created\",nb_path)\n",
    "\n",
    "if __name__ == '__main__':\n",
    "    main()]]>\n",
    "</cw:File>"
   ]
  },
  {
   "cell_type": "code",
   "execution_count": null,
   "metadata": {},
   "outputs": [
    {
     "name": "stdout",
     "output_type": "stream",
     "text": [
      "\n",
      "Welcome to Python 3.7's help utility!\n",
      "\n",
      "If this is your first time using Python, you should definitely check out\n",
      "the tutorial on the Internet at https://docs.python.org/3.7/tutorial/.\n",
      "\n",
      "Enter the name of any module, keyword, or topic to get help on writing\n",
      "Python programs and using Python modules.  To quit this help utility and\n",
      "return to the interpreter, just type \"quit\".\n",
      "\n",
      "To get a list of available modules, keywords, symbols, or topics, type\n",
      "\"modules\", \"keywords\", \"symbols\", or \"topics\".  Each module also comes\n",
      "with a one-line summary of what it does; to list the modules whose name\n",
      "or summary contain a given string such as \"spam\", type \"modules spam\".\n",
      "\n",
      "help> print\n",
      "Help on built-in function print in module builtins:\n",
      "\n",
      "print(...)\n",
      "    print(value, ..., sep=' ', end='\\n', file=sys.stdout, flush=False)\n",
      "    \n",
      "    Prints the values to a stream, or to sys.stdout by default.\n",
      "    Optional keyword arguments:\n",
      "    file:  a file-like object (stream); defaults to the current sys.stdout.\n",
      "    sep:   string inserted between values, default a space.\n",
      "    end:   string appended after the last value, default a newline.\n",
      "    flush: whether to forcibly flush the stream.\n",
      "\n"
     ]
    }
   ],
   "source": [
    "help()"
   ]
  }
 ],
 "metadata": {
  "kernelspec": {
   "display_name": "Python 3",
   "language": "python",
   "name": "python3"
  },
  "language_info": {
   "codemirror_mode": {
    "name": "ipython",
    "version": 3
   },
   "file_extension": ".py",
   "mimetype": "text/x-python",
   "name": "python",
   "nbconvert_exporter": "python",
   "pygments_lexer": "ipython3",
   "version": "3.7.6"
  }
 },
 "nbformat": 4,
 "nbformat_minor": 4
}
