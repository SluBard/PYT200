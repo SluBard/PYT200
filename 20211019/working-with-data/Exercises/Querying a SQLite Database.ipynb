{
 "cells": [
  {
   "cell_type": "markdown",
   "metadata": {},
   "source": [
    "# Querying a SQLite Database"
   ]
  },
  {
   "cell_type": "code",
   "execution_count": 1,
   "metadata": {},
   "outputs": [
    {
     "data": {
      "text/plain": [
       "[('Walter', 'Young', 320, '2005'),\n",
       " ('Jumbo', 'Diaz', 315, '2014'),\n",
       " ('Jumbo', 'Brown', 295, '1925'),\n",
       " ('Jonathan', 'Broxton', 295, '2005'),\n",
       " ('Dmitri', 'Young', 295, '1996')]"
      ]
     },
     "execution_count": 1,
     "metadata": {},
     "output_type": "execute_result"
    }
   ],
   "source": [
    "import sqlite3\n",
    "connection = sqlite3.connect('../lahman2014.sqlite')\n",
    "\n",
    "query = '''SELECT nameFirst, nameLast, weight, strftime('%Y', debut / 1000, 'unixepoch')\n",
    "FROM master\n",
    "ORDER BY weight DESC\n",
    "LIMIT 5'''\n",
    "\n",
    "# YOUR CODE HERE\n",
    "cursor = connection.cursor()\n",
    "cursor.execute(query)\n",
    "results = cursor.fetchall()\n",
    "cursor.close()\n",
    "connection.close()\n",
    "\n",
    "results"
   ]
  },
  {
   "cell_type": "markdown",
   "metadata": {},
   "source": [
    "## Challenge: Make Output Pretty"
   ]
  },
  {
   "cell_type": "code",
   "execution_count": 3,
   "metadata": {},
   "outputs": [
    {
     "name": "stdout",
     "output_type": "stream",
     "text": [
      "Walter Young weighed 320 pounds when he started his MLB carreer in 2005.\n",
      "Jumbo Diaz weighed 315 pounds when he started his MLB carreer in 2014.\n",
      "Jumbo Brown weighed 295 pounds when he started his MLB carreer in 1925.\n",
      "Jonathan Broxton weighed 295 pounds when he started his MLB carreer in 2005.\n",
      "Dmitri Young weighed 295 pounds when he started his MLB carreer in 1996.\n"
     ]
    }
   ],
   "source": [
    "# YOUR CODE HERE\n",
    "for r in results:\n",
    "    print(\"{} {} weighed {} pounds when he started his MLB carreer in {}.\".format(r[0],r[1],r[2],r[3]))"
   ]
  }
 ],
 "metadata": {
  "kernelspec": {
   "display_name": "Python 3",
   "language": "python",
   "name": "python3"
  },
  "language_info": {
   "codemirror_mode": {
    "name": "ipython",
    "version": 3
   },
   "file_extension": ".py",
   "mimetype": "text/x-python",
   "name": "python",
   "nbconvert_exporter": "python",
   "pygments_lexer": "ipython3",
   "version": "3.6.5"
  }
 },
 "nbformat": 4,
 "nbformat_minor": 1
}
