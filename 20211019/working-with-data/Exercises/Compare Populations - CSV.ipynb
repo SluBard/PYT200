{
 "cells": [
  {
   "cell_type": "markdown",
   "metadata": {},
   "source": [
    "# Compare Populations - CSV"
   ]
  },
  {
   "cell_type": "code",
   "execution_count": 1,
   "metadata": {},
   "outputs": [
    {
     "data": {
      "text/plain": [
       "(10353, 1.004910053492218)"
      ]
     },
     "execution_count": 1,
     "metadata": {},
     "output_type": "execute_result"
    }
   ],
   "source": [
    "import csv\n",
    "\n",
    "def compare_pops(pops, age_sex_year1, age_sex_year2):\n",
    "    '''Finds the populations (pop1 and pop2) for the two \n",
    "    passed-in age, sex, and year tuples.\n",
    "    \n",
    "    Returns a two-item tuple containing:\n",
    "     - the numeric difference in population (pop2 - pop1)\n",
    "     - the ratio (pop2 / pop1)\n",
    "\n",
    "    Keyword arguments:\n",
    "    pops -- a sequence holding dictionaries\n",
    "    age_sex_year1 -- a tuple holding age, sex, and year values\n",
    "    age_sex_year2 -- a tuple holding age, sex, and year values'''\n",
    "    pop1, pop2 = -1, -1\n",
    "    for row in pops:\n",
    "        if (row['AGE'] == str(age_sex_year1[0]) and row['SEX'] == age_sex_year1[1]):\n",
    "            pop1 = row['POPESTIMATE' + str(age_sex_year1[2])]\n",
    "            pop1 = int(pop1.replace(',',''))\n",
    "        if (row['AGE'] == str(age_sex_year2[0]) and row['SEX'] == age_sex_year2[1]):\n",
    "            pop2 = row['POPESTIMATE' + str(age_sex_year2[2])]\n",
    "            pop2 = int(pop2.replace(',',''))\n",
    "        if pop1 > 0 and pop2 > 0:\n",
    "            return (pop2 - pop1, pop2/pop1)\n",
    "\n",
    "with open('../csvs/us-population-2010-2014.csv', newline='') as csvfile:\n",
    "    pops = list(csv.DictReader(csvfile))\n",
    "\n",
    "compare_pops(pops,(30,\"F\",2011),(30,\"M\",2011))"
   ]
  },
  {
   "cell_type": "code",
   "execution_count": 7,
   "metadata": {
    "scrolled": true
   },
   "outputs": [
    {
     "data": {
      "text/plain": [
       "(OrderedDict([('SEX', 'M'),\n",
       "              ('AGE', '30'),\n",
       "              ('POPESTIMATE2010', '2,167,540'),\n",
       "              ('POPESTIMATE2011', '2,118,884'),\n",
       "              ('POPESTIMATE2012', '2,150,930'),\n",
       "              ('POPESTIMATE2013', '2,161,949'),\n",
       "              ('POPESTIMATE2014', '2,140,108')]),\n",
       " OrderedDict([('SEX', 'F'),\n",
       "              ('AGE', '30'),\n",
       "              ('POPESTIMATE2010', '2,136,704'),\n",
       "              ('POPESTIMATE2011', '2,108,531'),\n",
       "              ('POPESTIMATE2012', '2,134,944'),\n",
       "              ('POPESTIMATE2013', '2,138,678'),\n",
       "              ('POPESTIMATE2014', '2,110,672')]))"
      ]
     },
     "execution_count": 7,
     "metadata": {},
     "output_type": "execute_result"
    }
   ],
   "source": [
    "pops[131],pops[232]"
   ]
  },
  {
   "cell_type": "code",
   "execution_count": 11,
   "metadata": {},
   "outputs": [
    {
     "data": {
      "text/plain": [
       "('M', '30', '2,118,884')"
      ]
     },
     "execution_count": 11,
     "metadata": {},
     "output_type": "execute_result"
    }
   ],
   "source": [
    "pops[131]['SEX'],pops[131]['AGE'],pops[131]['POPESTIMATE2011']"
   ]
  }
 ],
 "metadata": {
  "kernelspec": {
   "display_name": "Python 3",
   "language": "python",
   "name": "python3"
  },
  "language_info": {
   "codemirror_mode": {
    "name": "ipython",
    "version": 3
   },
   "file_extension": ".py",
   "mimetype": "text/x-python",
   "name": "python",
   "nbconvert_exporter": "python",
   "pygments_lexer": "ipython3",
   "version": "3.6.5"
  }
 },
 "nbformat": 4,
 "nbformat_minor": 1
}
