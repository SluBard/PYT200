{
 "cells": [
  {
   "cell_type": "markdown",
   "metadata": {},
   "source": [
    "# Requests and Beautiful Soup"
   ]
  },
  {
   "cell_type": "code",
   "execution_count": 4,
   "metadata": {},
   "outputs": [
    {
     "name": "stdout",
     "output_type": "stream",
     "text": [
      "Enter a state abbreviation: NY\n",
      "\t 1 Charles E. Schumer\n",
      "\t 1 Kirsten E. Gillibrand\n"
     ]
    }
   ],
   "source": [
    "import requests\n",
    "from bs4 import BeautifulSoup\n",
    "import re\n",
    "\n",
    "headers = {'user-agent': 'my-app/0.0.1'}\n",
    "\n",
    "# Finish the code\n",
    "state = input(\"Enter a state abbreviation: \")\n",
    "state_url = 'https://www.senate.gov/states/'+state+'/intro.htm'\n",
    "\n",
    "req = requests.get(state_url,headers=headers)\n",
    "state_content = req.text\n",
    "soup = BeautifulSoup(state_content,'html.parser')\n",
    "senators = soup.find_all('a',href = re.compile('senate.gov/?$'),target=\"_blank\")\n",
    "i=1\n",
    "for senator in senators:\n",
    "    person = senator.text.strip()\n",
    "    if person != 'Contact':  # Pesky row that we need to ignore\n",
    "        print(\"\\t\",i, person)\n"
   ]
  },
  {
   "cell_type": "markdown",
   "metadata": {},
   "source": [
    "## Challenge"
   ]
  },
  {
   "cell_type": "code",
   "execution_count": 5,
   "metadata": {},
   "outputs": [
    {
     "data": {
      "text/plain": [
       "[('John', 7), ('Richard', 4), ('Mike', 4)]"
      ]
     },
     "execution_count": 5,
     "metadata": {},
     "output_type": "execute_result"
    }
   ],
   "source": [
    "from collections import Counter\n",
    "\n",
    "# finish the code\n",
    "import requests\n",
    "from bs4 import BeautifulSoup\n",
    "import re\n",
    "\n",
    "url = 'https://www.senate.gov/general/contact_information/senators_cfm.cfm'\n",
    "headers = {'user-agent': 'my-app/0.0.1'}\n",
    "r = requests.get(url, headers=headers)\n",
    "content = r.text\n",
    "\n",
    "soup = BeautifulSoup(content, 'html.parser')\n",
    "\n",
    "states = soup.find_all('option', value = re.compile('/intro.htm$'))\n",
    "\n",
    "# dont know why we have 100 states, so we are truncating\n",
    "states = states[:50]\n",
    "\n",
    "first_names=[]\n",
    "for state in states:\n",
    "    state_url = 'https://www.senate.gov'+state.attrs['value']\n",
    "    req = requests.get(state_url,headers=headers)\n",
    "    state_content = req.text\n",
    "    soup = BeautifulSoup(state_content,'html.parser')\n",
    "    senators = soup.find_all('a',href = re.compile('senate.gov/?$'),target=\"_blank\")\n",
    "\n",
    "    for senator in senators:\n",
    "        person = senator.text.strip()\n",
    "        if person != 'Contact':  # Pesky row that we need to ignore\n",
    "            first_names.append(person.split()[0])\n",
    "\n",
    "Counter(first_names).most_common(3)"
   ]
  }
 ],
 "metadata": {
  "kernelspec": {
   "display_name": "Python 3",
   "language": "python",
   "name": "python3"
  },
  "language_info": {
   "codemirror_mode": {
    "name": "ipython",
    "version": 3
   },
   "file_extension": ".py",
   "mimetype": "text/x-python",
   "name": "python",
   "nbconvert_exporter": "python",
   "pygments_lexer": "ipython3",
   "version": "3.6.5"
  }
 },
 "nbformat": 4,
 "nbformat_minor": 1
}
