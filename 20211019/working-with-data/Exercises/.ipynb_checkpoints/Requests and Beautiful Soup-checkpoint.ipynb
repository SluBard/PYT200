{
 "cells": [
  {
   "cell_type": "markdown",
   "metadata": {},
   "source": [
    "# Requests and Beautiful Soup"
   ]
  },
  {
   "cell_type": "code",
   "execution_count": null,
   "metadata": {},
   "outputs": [],
   "source": [
    "import requests\n",
    "from bs4 import BeautifulSoup\n",
    "import re\n",
    "\n",
    "url = 'https://www.senate.gov/general/contact_information/senators_cfm.cfm'\n",
    "headers = {'user-agent': 'my-app/0.0.1'}\n",
    "\n",
    "# Finish the code\n",
    "state = input(\"Enter a state abbreviation: \")\n",
    "state_url = 'https://www.senate.gov/states/'+state+'/intro.htm'\n",
    "\n",
    "req = requests.get(state_url,headers=headers)\n",
    "state_content = req.text\n",
    "soup = BeautifulSoup(state_content,'html.parser')\n",
    "senators = soup.find_all('a',href = re.compile('senate.gov/?$'),target=\"_blank\")\n",
    "i=1\n",
    "for senator in senators:\n",
    "    person = senator.text.strip()\n",
    "    if person != 'Contact':  # Pesky row that we need to ignore\n",
    "        print(\"\\t\",i, person)\n"
   ]
  },
  {
   "cell_type": "markdown",
   "metadata": {},
   "source": [
    "## Challenge"
   ]
  },
  {
   "cell_type": "code",
   "execution_count": null,
   "metadata": {},
   "outputs": [],
   "source": [
    "from collections import Counter\n",
    "\n",
    "# finish the code"
   ]
  }
 ],
 "metadata": {
  "kernelspec": {
   "display_name": "Python 3",
   "language": "python",
   "name": "python3"
  },
  "language_info": {
   "codemirror_mode": {
    "name": "ipython",
    "version": 3
   },
   "file_extension": ".py",
   "mimetype": "text/x-python",
   "name": "python",
   "nbconvert_exporter": "python",
   "pygments_lexer": "ipython3",
   "version": "3.6.5"
  }
 },
 "nbformat": 4,
 "nbformat_minor": 1
}
