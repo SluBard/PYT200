{
 "cells": [
  {
   "cell_type": "code",
   "execution_count": 7,
   "metadata": {},
   "outputs": [
    {
     "name": "stderr",
     "output_type": "stream",
     "text": [
      "test_round_down (test_math_functions.TestMathFunctions) ... ok\n",
      "test_round_up (test_math_functions.TestMathFunctions) ... ok\n",
      "test_append (test_string_functions.TestStringFunctions) ... ok\n",
      "test_discover_email (test_string_functions.TestStringFunctions) ... ok\n",
      "test_inits (test_string_functions.TestStringFunctions) ... ok\n",
      "test_insert (test_string_functions.TestStringFunctions) ... ok\n",
      "test_prepend (test_string_functions.TestStringFunctions) ... ok\n",
      "test_remove_non_ascii_letters (test_string_functions.TestStringFunctions) ... ok\n",
      "\n",
      "----------------------------------------------------------------------\n",
      "Ran 8 tests in 0.000s\n",
      "\n",
      "OK\n"
     ]
    }
   ],
   "source": [
    "!python -m unittest discover . -v"
   ]
  }
 ],
 "metadata": {
  "kernelspec": {
   "display_name": "Python 3",
   "language": "python",
   "name": "python3"
  },
  "language_info": {
   "codemirror_mode": {
    "name": "ipython",
    "version": 3
   },
   "file_extension": ".py",
   "mimetype": "text/x-python",
   "name": "python",
   "nbconvert_exporter": "python",
   "pygments_lexer": "ipython3",
   "version": "3.6.5"
  }
 },
 "nbformat": 4,
 "nbformat_minor": 2
}
