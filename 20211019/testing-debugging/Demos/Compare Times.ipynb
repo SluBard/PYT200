{
 "cells": [
  {
   "cell_type": "code",
   "execution_count": 1,
   "metadata": {},
   "outputs": [
    {
     "data": {
      "text/plain": [
       "(6e-07, 1.79e-05, 1.73e-05)"
      ]
     },
     "execution_count": 1,
     "metadata": {},
     "output_type": "execute_result"
    }
   ],
   "source": [
    "import time\n",
    "\n",
    "t1 = time.perf_counter()\n",
    "t2 = time.perf_counter()\n",
    "t1, t2, t2-t1"
   ]
  },
  {
   "cell_type": "code",
   "execution_count": 2,
   "metadata": {
    "scrolled": true
   },
   "outputs": [
    {
     "name": "stdout",
     "output_type": "stream",
     "text": [
      "Time Delta 1: 0.0019435000000029845\n",
      "Time Delta 2: 0.0017225999999936903\n"
     ]
    }
   ],
   "source": [
    "import random\n",
    "\n",
    "start_time = time.perf_counter()\n",
    "numbers = str(random.randint(1,100))\n",
    "for i in range(1000):\n",
    "    num = random.randint(1,100)\n",
    "    numbers += ',' + str(num)\n",
    "end_time = time.perf_counter()\n",
    "td1 = end_time - start_time\n",
    "\n",
    "start_time = time.perf_counter()\n",
    "numbers = [str(random.randint(1,100)) for i in range(1,1000)]\n",
    "numbers = ', '.join(numbers)\n",
    "end_time = time.perf_counter()\n",
    "td2 = end_time - start_time\n",
    "\n",
    "print('''Time Delta 1: {}\n",
    "Time Delta 2: {}'''.format(td1, td2))"
   ]
  },
  {
   "cell_type": "code",
   "execution_count": 3,
   "metadata": {},
   "outputs": [
    {
     "name": "stdout",
     "output_type": "stream",
     "text": [
      "Time Delta 1: 1.7993347000000028\n",
      "Time Delta 2: 1.4104454000000004\n"
     ]
    }
   ],
   "source": [
    "import random\n",
    "\n",
    "start_time = time.perf_counter()\n",
    "for j in range(1000):\n",
    "    numbers = str(random.randint(1,100))\n",
    "    for i in range(1000):\n",
    "        num = random.randint(1,100)\n",
    "        numbers += ',' + str(num)\n",
    "end_time = time.perf_counter()\n",
    "td1 = end_time - start_time\n",
    "\n",
    "start_time = time.perf_counter()\n",
    "for j in range(1000):\n",
    "    numbers = [str(random.randint(1,100)) for i in range(1,1000)]\n",
    "    numbers = ', '.join(numbers)\n",
    "end_time = time.perf_counter()\n",
    "td2 = end_time - start_time\n",
    "\n",
    "print('''Time Delta 1: {}\n",
    "Time Delta 2: {}'''.format(td1, td2))"
   ]
  },
  {
   "cell_type": "code",
   "execution_count": 4,
   "metadata": {},
   "outputs": [
    {
     "data": {
      "text/plain": [
       "(1.6756233000000123, 1.385516999999993)"
      ]
     },
     "execution_count": 4,
     "metadata": {},
     "output_type": "execute_result"
    }
   ],
   "source": [
    "import random\n",
    "from timeit import timeit\n",
    "\n",
    "def string_nums1():\n",
    "    numbers = str(random.randint(1,100))\n",
    "    for i in range(1000):\n",
    "        num = random.randint(1,100)\n",
    "        numbers += ', ' + str(num)\n",
    "    \n",
    "def string_nums2():\n",
    "    numbers = [str(random.randint(1,100)) for i in range(1,1000)]\n",
    "    numbers = ', '.join(numbers)\n",
    "\n",
    "td1 = timeit(string_nums1, number=1000)\n",
    "td2 = timeit(string_nums2, number=1000)\n",
    "\n",
    "td1, td2"
   ]
  },
  {
   "cell_type": "code",
   "execution_count": 5,
   "metadata": {},
   "outputs": [
    {
     "name": "stdout",
     "output_type": "stream",
     "text": [
      "1.6924475000000143 1.383919800000001\n"
     ]
    }
   ],
   "source": [
    "import random\n",
    "from timeit import timeit\n",
    "\n",
    "str_nums1 = \"\"\"\n",
    "numbers = str(random.randint(1,100))\n",
    "for i in range(1000):\n",
    "    num = random.randint(1,100)\n",
    "    numbers += ', ' + str(num)\"\"\"\n",
    "    \n",
    "str_nums2 = \"\"\"\n",
    "numbers = [str(random.randint(1,100)) for i in range(1,1000)]\n",
    "numbers = ', '.join(numbers)\"\"\"\n",
    "\n",
    "td1 = timeit(str_nums1, number=1000, globals=globals())\n",
    "td2 = timeit(str_nums2, number=1000, globals=globals())\n",
    "\n",
    "print(td1, td2)"
   ]
  },
  {
   "cell_type": "code",
   "execution_count": 6,
   "metadata": {},
   "outputs": [
    {
     "data": {
      "text/plain": [
       "(1.6747598999999695, 1.3619438999999716)"
      ]
     },
     "execution_count": 6,
     "metadata": {},
     "output_type": "execute_result"
    }
   ],
   "source": [
    "from timeit import timeit\n",
    "\n",
    "str_nums1 = \"\"\"\n",
    "numbers = str(random.randint(1,100))\n",
    "for i in range(1000):\n",
    "    num = random.randint(1,100)\n",
    "    numbers += ', ' + str(num)\"\"\"\n",
    "    \n",
    "str_nums2 = \"\"\"\n",
    "numbers = [str(random.randint(1,100)) for i in range(1,1000)]\n",
    "numbers = ', '.join(numbers)\"\"\"\n",
    "\n",
    "td1 = timeit(str_nums1, number=1000, setup='import random')\n",
    "td2 = timeit(str_nums2, number=1000, setup='import random')\n",
    "\n",
    "td1, td2"
   ]
  },
  {
   "cell_type": "code",
   "execution_count": 7,
   "metadata": {
    "scrolled": true
   },
   "outputs": [
    {
     "data": {
      "text/plain": [
       "([1.6734574999999836,\n",
       "  1.658874400000002,\n",
       "  1.6407349000000409,\n",
       "  1.6453841000000011],\n",
       " [1.3571454000000358,\n",
       "  1.3569505999999478,\n",
       "  1.3541700000000105,\n",
       "  1.3567899999999895])"
      ]
     },
     "execution_count": 7,
     "metadata": {},
     "output_type": "execute_result"
    }
   ],
   "source": [
    "from timeit import repeat\n",
    "\n",
    "string_nums1 = \"\"\"\n",
    "numbers = str(random.randint(1,100))\n",
    "for i in range(1000):\n",
    "    num = random.randint(1,100)\n",
    "    numbers += ', ' + str(num)\"\"\"\n",
    "    \n",
    "string_nums2 = \"\"\"\n",
    "numbers = [str(random.randint(1,100)) for i in range(1,1000)]\n",
    "numbers = ', '.join(numbers)\"\"\"\n",
    "\n",
    "tds1 = repeat(string_nums1, number=1000, repeat=4, setup='import random')\n",
    "tds2 = repeat(string_nums2, number=1000, repeat=4, setup='import random')\n",
    "\n",
    "tds1, tds2"
   ]
  },
  {
   "cell_type": "code",
   "execution_count": 8,
   "metadata": {},
   "outputs": [
    {
     "data": {
      "text/plain": [
       "'18.03%'"
      ]
     },
     "execution_count": 8,
     "metadata": {},
     "output_type": "execute_result"
    }
   ],
   "source": [
    "'{:.2%}'.format(1 - sum(tds2) / sum(tds1))"
   ]
  },
  {
   "cell_type": "code",
   "execution_count": 9,
   "metadata": {},
   "outputs": [
    {
     "name": "stdout",
     "output_type": "stream",
     "text": [
      "1.66 ms ± 5.68 µs per loop (mean ± std. dev. of 4 runs, 1000 loops each)\n",
      "1.39 ms ± 12.6 µs per loop (mean ± std. dev. of 4 runs, 1000 loops each)\n"
     ]
    }
   ],
   "source": [
    "import random\n",
    "\n",
    "def string_nums1():\n",
    "    numbers = str(random.randint(1,100))\n",
    "    for i in range(1000):\n",
    "        num = random.randint(1,100)\n",
    "        numbers += ', ' + str(num)\n",
    "    \n",
    "def string_nums2():\n",
    "    numbers = [str(random.randint(1,100)) for i in range(1,1000)]\n",
    "    numbers = ', '.join(numbers)\n",
    "\n",
    "tr1 = %timeit -n1000 -r4 -o string_nums1()\n",
    "tr2 = %timeit -n1000 -r4 -o string_nums2()"
   ]
  },
  {
   "cell_type": "code",
   "execution_count": 11,
   "metadata": {},
   "outputs": [
    {
     "data": {
      "text/plain": [
       "([1.6730962999999974,\n",
       "  1.6571837999999843,\n",
       "  1.6638099000000466,\n",
       "  1.663423899999998],\n",
       " <TimeitResult : 1.66 ms ± 5.68 µs per loop (mean ± std. dev. of 4 runs, 1000 loops each)>)"
      ]
     },
     "execution_count": 11,
     "metadata": {},
     "output_type": "execute_result"
    }
   ],
   "source": [
    "tr1.all_runs, tr1"
   ]
  },
  {
   "cell_type": "code",
   "execution_count": 12,
   "metadata": {},
   "outputs": [
    {
     "data": {
      "text/plain": [
       "'16.68%'"
      ]
     },
     "execution_count": 12,
     "metadata": {},
     "output_type": "execute_result"
    }
   ],
   "source": [
    "'{:.2%}'.format(1 - sum(tr2.all_runs) / sum(tr1.all_runs) )"
   ]
  },
  {
   "cell_type": "code",
   "execution_count": 13,
   "metadata": {},
   "outputs": [
    {
     "name": "stdout",
     "output_type": "stream",
     "text": [
      "1.69 ms ± 23.4 µs per loop (mean ± std. dev. of 7 runs, 1000 loops each)\n"
     ]
    }
   ],
   "source": [
    "%%timeit -n 1000\n",
    "\n",
    "numbers = str(random.randint(1,100))\n",
    "for i in range(1000):\n",
    "    num = random.randint(1,100)\n",
    "    numbers += ', ' + str(num)"
   ]
  },
  {
   "cell_type": "code",
   "execution_count": 14,
   "metadata": {},
   "outputs": [
    {
     "name": "stdout",
     "output_type": "stream",
     "text": [
      "1.38 ms ± 11 µs per loop (mean ± std. dev. of 7 runs, 1000 loops each)\n"
     ]
    }
   ],
   "source": [
    "%%timeit -n 1000\n",
    "\n",
    "numbers = [str(random.randint(1,100)) for i in range(1,1000)]\n",
    "numbers = ', '.join(numbers)"
   ]
  }
 ],
 "metadata": {
  "kernelspec": {
   "display_name": "Python 3",
   "language": "python",
   "name": "python3"
  },
  "language_info": {
   "codemirror_mode": {
    "name": "ipython",
    "version": 3
   },
   "file_extension": ".py",
   "mimetype": "text/x-python",
   "name": "python",
   "nbconvert_exporter": "python",
   "pygments_lexer": "ipython3",
   "version": "3.6.5"
  }
 },
 "nbformat": 4,
 "nbformat_minor": 1
}
