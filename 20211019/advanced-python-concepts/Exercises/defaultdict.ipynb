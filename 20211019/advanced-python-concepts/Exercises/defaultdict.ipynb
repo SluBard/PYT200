{
 "cells": [
  {
   "cell_type": "markdown",
   "metadata": {},
   "source": [
    "# Using a defaultdict to Organize Yankees by Position"
   ]
  },
  {
   "cell_type": "code",
   "execution_count": 6,
   "metadata": {},
   "outputs": [
    {
     "data": {
      "text/plain": [
       "defaultdict(list,\n",
       "            {'P': ['Walter Beall',\n",
       "              'Joe Giard',\n",
       "              'Waite Hoyt',\n",
       "              'Wilcy Moore',\n",
       "              'Herb Pennock',\n",
       "              'George Pipgras',\n",
       "              'Dutch Ruether',\n",
       "              'Bob Shawkey',\n",
       "              'Urban Shocker',\n",
       "              'Myles Thomas'],\n",
       "             'C': ['Benny Bengough', 'Pat Collins', 'Johnny Grabowski'],\n",
       "             'OF': ['Earle Combs',\n",
       "              'Cedric Durst',\n",
       "              'Bob Meusel',\n",
       "              'Ben Paschal',\n",
       "              'Babe Ruth'],\n",
       "             '3B': ['Joe Dugan', 'Mike Gazella', 'Julie Wera'],\n",
       "             '1B': ['Lou Gehrig'],\n",
       "             'SS': ['Mark Koenig'],\n",
       "             '2B': ['Tony Lazzeri', 'Ray Morehart']})"
      ]
     },
     "execution_count": 6,
     "metadata": {},
     "output_type": "execute_result"
    }
   ],
   "source": [
    "yankees_1927 = [\n",
    "    {'position': 'P', 'name': 'Walter Beall'},\n",
    "    {'position': 'C', 'name': 'Benny Bengough'},\n",
    "    {'position': 'C', 'name': 'Pat Collins'},\n",
    "    {'position': 'OF', 'name': 'Earle Combs'},\n",
    "    {'position': '3B', 'name': 'Joe Dugan'},\n",
    "    {'position': 'OF', 'name': 'Cedric Durst'},\n",
    "    {'position': '3B', 'name': 'Mike Gazella'},\n",
    "    {'position': '1B', 'name': 'Lou Gehrig'},\n",
    "    {'position': 'P', 'name': 'Joe Giard'},\n",
    "    {'position': 'C', 'name': 'Johnny Grabowski'},\n",
    "    {'position': 'P', 'name': 'Waite Hoyt'},\n",
    "    {'position': 'SS', 'name': 'Mark Koenig'},\n",
    "    {'position': '2B', 'name': 'Tony Lazzeri'},\n",
    "    {'position': 'OF', 'name': 'Bob Meusel'},\n",
    "    {'position': 'P', 'name': 'Wilcy Moore'},\n",
    "    {'position': '2B', 'name': 'Ray Morehart'},\n",
    "    {'position': 'OF', 'name': 'Ben Paschal'},\n",
    "    {'position': 'P', 'name': 'Herb Pennock'},\n",
    "    {'position': 'P', 'name': 'George Pipgras'},\n",
    "    {'position': 'P', 'name': 'Dutch Ruether'},\n",
    "    {'position': 'OF', 'name': 'Babe Ruth'},\n",
    "    {'position': 'P', 'name': 'Bob Shawkey'},\n",
    "    {'position': 'P', 'name': 'Urban Shocker'},\n",
    "    {'position': 'P', 'name': 'Myles Thomas'},\n",
    "    {'position': '3B', 'name': 'Julie Wera'}\n",
    "]\n",
    "from collections import defaultdict\n",
    "pos = defaultdict(list)\n",
    "for player in yankees_1927:\n",
    "    pos[player['position']].append(player['name'])\n",
    "\n",
    "pos"
   ]
  }
 ],
 "metadata": {
  "kernelspec": {
   "display_name": "Python 3",
   "language": "python",
   "name": "python3"
  },
  "language_info": {
   "codemirror_mode": {
    "name": "ipython",
    "version": 3
   },
   "file_extension": ".py",
   "mimetype": "text/x-python",
   "name": "python",
   "nbconvert_exporter": "python",
   "pygments_lexer": "ipython3",
   "version": "3.6.5"
  }
 },
 "nbformat": 4,
 "nbformat_minor": 1
}
