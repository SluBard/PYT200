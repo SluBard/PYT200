{
 "cells": [
  {
   "cell_type": "markdown",
   "metadata": {},
   "source": [
    "# Inserting File Data into a Database"
   ]
  },
  {
   "cell_type": "code",
   "execution_count": 11,
   "metadata": {
    "scrolled": true
   },
   "outputs": [
    {
     "name": "stdout",
     "output_type": "stream",
     "text": [
      "The projected population of California in 2028 is 44,451,158.\n",
      "The projected population of Texas in 2028 is 34,849,599.\n",
      "The projected population of Florida in 2028 is 24,761,225.\n",
      "The projected population of New York in 2028 is 20,547,222.\n",
      "The projected population of Illinois in 2028 is 13,359,000.\n",
      "The projected population of Pennsylvania in 2028 is 13,314,224.\n",
      "The projected population of Georgia in 2028 is 12,454,274.\n",
      "The projected population of North Carolina in 2028 is 12,284,578.\n",
      "The projected population of Ohio in 2028 is 11,840,302.\n",
      "The projected population of Michigan in 2028 is 9,881,392.\n",
      "The projected population of Virginia in 2028 is 9,794,015.\n",
      "The projected population of New Jersey in 2028 is 9,494,610.\n",
      "The projected population of Arizona in 2028 is 8,831,831.\n",
      "The projected population of Washington in 2028 is 8,460,159.\n",
      "The projected population of Tennessee in 2028 is 7,539,440.\n",
      "The projected population of Massachusetts in 2028 is 7,166,456.\n",
      "The projected population of Indiana in 2028 is 7,157,076.\n",
      "The projected population of Maryland in 2028 is 6,743,610.\n",
      "The projected population of Colorado in 2028 is 6,669,044.\n",
      "The projected population of Missouri in 2028 is 6,571,175.\n",
      "The projected population of Wisconsin in 2028 is 6,180,378.\n",
      "The projected population of Minnesota in 2028 is 6,053,636.\n",
      "The projected population of South Carolina in 2028 is 5,820,740.\n",
      "The projected population of Alabama in 2028 is 5,288,043.\n",
      "The projected population of Louisiana in 2028 is 4,837,682.\n",
      "The projected population of Kentucky in 2028 is 4,819,326.\n",
      "The projected population of Oregon in 2028 is 4,607,120.\n",
      "The projected population of Oklahoma in 2028 is 4,358,385.\n",
      "The projected population of Nevada in 2028 is 4,033,754.\n",
      "The projected population of Utah in 2028 is 3,878,198.\n",
      "The projected population of Connecticut in 2028 is 3,798,513.\n",
      "The projected population of Puerto Rico in 2028 is 3,305,962.\n",
      "The projected population of Iowa in 2028 is 3,299,098.\n",
      "The projected population of Arkansas in 2028 is 3,291,443.\n",
      "The projected population of Mississippi in 2028 is 3,151,348.\n",
      "The projected population of Kansas in 2028 is 3,136,914.\n",
      "The projected population of New Mexico in 2028 is 2,391,149.\n",
      "The projected population of Nebraska in 2028 is 2,068,678.\n",
      "The projected population of Idaho in 2028 is 2,064,582.\n",
      "The projected population of West Virginia in 2028 is 1,893,282.\n",
      "The projected population of Hawaii in 2028 is 1,663,303.\n",
      "The projected population of New Hampshire in 2028 is 1,424,544.\n",
      "The projected population of Maine in 2028 is 1,387,642.\n",
      "The projected population of Montana in 2028 is 1,161,294.\n",
      "The projected population of Delaware in 2028 is 1,117,117.\n",
      "The projected population of Rhode Island in 2028 is 1,062,071.\n",
      "The projected population of South Dakota in 2028 is 964,315.\n",
      "The projected population of Alaska in 2028 is 865,762.\n",
      "The projected population of North Dakota in 2028 is 851,500.\n",
      "The projected population of District of Columbia in 2028 is 758,907.\n",
      "The projected population of Wyoming in 2028 is 691,063.\n",
      "The projected population of Vermont in 2028 is 644,813.\n"
     ]
    }
   ],
   "source": [
    "import sqlite3\n",
    "connection = sqlite3.connect(':memory:')\n",
    "\n",
    "create = '''CREATE TABLE states (\n",
    "'state' text,\n",
    "'pop2014' integer,\n",
    "'pop2000' integer\n",
    ")'''\n",
    "\n",
    "insert = 'INSERT INTO states VALUES (?,?,?)'\n",
    "        \n",
    "select = '''SELECT state,\n",
    "CAST( (pop2014*1.0/pop2000) * pop2014 AS INTEGER) pop2028\n",
    "FROM states ORDER BY pop2028 DESC'''\n",
    "\n",
    "cursor = connection.cursor()\n",
    "cursor.execute(create)\n",
    "\n",
    "file=open('../exercises/states.txt')\n",
    "records = file.read()\n",
    "file.close()\n",
    "\n",
    "data=[]\n",
    "for record in records.split('\\n'):\n",
    "    state,p2014,p2000 = record.split('\\t')\n",
    "    data.append((state,int(p2014.replace(',','')),int(p2000.replace(',',''))))\n",
    "\n",
    "cursor.executemany(insert, data)\n",
    "\n",
    "cursor.execute(select)\n",
    "results = cursor.fetchall()\n",
    "cursor.close()\n",
    "connection.close()\n",
    "\n",
    "for r in results:\n",
    "    print(\"The projected population of {} in 2028 is {:,}.\".format(r[0],r[1]))"
   ]
  }
 ],
 "metadata": {
  "kernelspec": {
   "display_name": "Python 3",
   "language": "python",
   "name": "python3"
  },
  "language_info": {
   "codemirror_mode": {
    "name": "ipython",
    "version": 3
   },
   "file_extension": ".py",
   "mimetype": "text/x-python",
   "name": "python",
   "nbconvert_exporter": "python",
   "pygments_lexer": "ipython3",
   "version": "3.6.5"
  }
 },
 "nbformat": 4,
 "nbformat_minor": 1
}
