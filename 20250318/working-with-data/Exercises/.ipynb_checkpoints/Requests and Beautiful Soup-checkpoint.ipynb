{
 "cells": [
  {
   "cell_type": "markdown",
   "metadata": {},
   "source": [
    "# Requests and Beautiful Soup"
   ]
  },
  {
   "cell_type": "code",
   "execution_count": 5,
   "metadata": {},
   "outputs": [
    {
     "name": "stdout",
     "output_type": "stream",
     "text": [
      "Enter a state abbreviation: NY\n",
      "1 Gillibrand, Kirsten E.\n",
      "2 Schumer, Charles E.\n"
     ]
    }
   ],
   "source": [
    "import requests\n",
    "from bs4 import BeautifulSoup\n",
    "import re\n",
    "\n",
    "#url = 'https://www.senate.gov/general/contact_information/senators_cfm.cfm'\n",
    "headers = {'user-agent': 'my-app/0.0.1'}\n",
    "\n",
    "# Finish the code\n",
    "url = 'https://www.senate.gov/general/contact_information/senators_cfm.xml'\n",
    "r = requests.get(url, headers=headers)\n",
    "content = r.text\n",
    "\n",
    "soup = BeautifulSoup(content, 'xml')\n",
    "\n",
    "senators = soup.find_all('member')\n",
    "\n",
    "state=input(\"Enter a state abbreviation: \")\n",
    "i=1\n",
    "for senator in senators:\n",
    "    if senator.state.text == state:\n",
    "        print(\"{} {}, {}\".format(i, senator.last_name.text, senator.first_name.text))\n",
    "        i += 1"
   ]
  },
  {
   "cell_type": "markdown",
   "metadata": {},
   "source": [
    "## Challenge"
   ]
  },
  {
   "cell_type": "code",
   "execution_count": 7,
   "metadata": {},
   "outputs": [
    {
     "data": {
      "text/plain": [
       "[('John', 7), ('Mike', 3), ('Tim', 3)]"
      ]
     },
     "execution_count": 7,
     "metadata": {},
     "output_type": "execute_result"
    }
   ],
   "source": [
    "from collections import Counter\n",
    "\n",
    "# finish the code\n",
    "firstnames=[]\n",
    "for senator in senators:\n",
    "    firstnames.append(senator.first_name.text)\n",
    "Counter(firstnames).most_common(3)"
   ]
  }
 ],
 "metadata": {
  "kernelspec": {
   "display_name": "Python 3",
   "language": "python",
   "name": "python3"
  },
  "language_info": {
   "codemirror_mode": {
    "name": "ipython",
    "version": 3
   },
   "file_extension": ".py",
   "mimetype": "text/x-python",
   "name": "python",
   "nbconvert_exporter": "python",
   "pygments_lexer": "ipython3",
   "version": "3.6.5"
  }
 },
 "nbformat": 4,
 "nbformat_minor": 1
}
