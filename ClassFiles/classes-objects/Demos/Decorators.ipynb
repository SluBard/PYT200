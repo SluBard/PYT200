{
 "cells": [
  {
   "cell_type": "markdown",
   "metadata": {},
   "source": [
    "# Decorators\n",
    "A decorator is a function that takes another function as an argument and returns a function."
   ]
  },
  {
   "cell_type": "code",
   "execution_count": 1,
   "metadata": {},
   "outputs": [
    {
     "name": "stdout",
     "output_type": "stream",
     "text": [
      "<function bar at 0x0000018C7FE2F8C8>\n",
      "<function bar at 0x0000018C7FE2F8C8>\n",
      "<function foo.<locals>.foo_inner at 0x0000018C7FE2FB70>\n"
     ]
    }
   ],
   "source": [
    "def foo(f):\n",
    "    print(f)\n",
    "    def foo_inner():\n",
    "        pass\n",
    "    return foo_inner\n",
    "    \n",
    "def bar():\n",
    "    pass\n",
    "\n",
    "print(bar)\n",
    "bar = foo(bar)\n",
    "print(bar)"
   ]
  },
  {
   "cell_type": "code",
   "execution_count": 2,
   "metadata": {},
   "outputs": [
    {
     "name": "stdout",
     "output_type": "stream",
     "text": [
      "MY REPORT\n",
      "--------------------------------------------------\n",
      "I have created my first decorator.\n",
      "--------------------------------------------------\n",
      "Report completed: 2021-01-25 19:19:34.785605.\n"
     ]
    }
   ],
   "source": [
    "from datetime import datetime\n",
    "\n",
    "def format_report(f):\n",
    "    def inner(text):\n",
    "        print('MY REPORT')\n",
    "        print('-' * 50)\n",
    "        f(text)\n",
    "        print('-' * 50)\n",
    "        print('Report completed: {}.'.format(datetime.now()))\n",
    "    return inner\n",
    "\n",
    "def report(text):\n",
    "    print(text)\n",
    "\n",
    "report = format_report(report)\n",
    "\n",
    "report('I have created my first decorator.')"
   ]
  },
  {
   "cell_type": "code",
   "execution_count": 3,
   "metadata": {},
   "outputs": [
    {
     "name": "stdout",
     "output_type": "stream",
     "text": [
      "MY REPORT\n",
      "--------------------------------------------------\n",
      "I have created my second decorator.\n",
      "--------------------------------------------------\n",
      "Report completed: 2021-01-25 19:21:24.338386.\n"
     ]
    }
   ],
   "source": [
    "from datetime import datetime\n",
    "\n",
    "def format_report(f):\n",
    "    def inner(text):\n",
    "        print('MY REPORT')\n",
    "        print('-' * 50)\n",
    "        f(text)\n",
    "        print('-' * 50)\n",
    "        print('Report completed: {}.'.format(datetime.now()))\n",
    "    return inner\n",
    "\n",
    "@format_report\n",
    "def report(text):\n",
    "    print(text)\n",
    "\n",
    "report('I have created my second decorator.')"
   ]
  }
 ],
 "metadata": {
  "kernelspec": {
   "display_name": "Python 3",
   "language": "python",
   "name": "python3"
  },
  "language_info": {
   "codemirror_mode": {
    "name": "ipython",
    "version": 3
   },
   "file_extension": ".py",
   "mimetype": "text/x-python",
   "name": "python",
   "nbconvert_exporter": "python",
   "pygments_lexer": "ipython3",
   "version": "3.6.5"
  }
 },
 "nbformat": 4,
 "nbformat_minor": 1
}
