{
 "cells": [
  {
   "cell_type": "code",
   "execution_count": 1,
   "metadata": {},
   "outputs": [
    {
     "data": {
      "text/plain": [
       "(6e-07, 1.92e-05, 1.8599999999999998e-05)"
      ]
     },
     "execution_count": 1,
     "metadata": {},
     "output_type": "execute_result"
    }
   ],
   "source": [
    "import time\n",
    "\n",
    "t1 = time.perf_counter()\n",
    "t2 = time.perf_counter()\n",
    "t1, t2, t2-t1"
   ]
  },
  {
   "cell_type": "code",
   "execution_count": 2,
   "metadata": {
    "scrolled": true
   },
   "outputs": [
    {
     "name": "stdout",
     "output_type": "stream",
     "text": [
      "Time Delta 1: 0.0019477999999963913\n",
      "Time Delta 2: 0.0017535000000066248\n"
     ]
    }
   ],
   "source": [
    "import random\n",
    "\n",
    "start_time = time.perf_counter()\n",
    "numbers = str(random.randint(1,100))\n",
    "for i in range(1000):\n",
    "    num = random.randint(1,100)\n",
    "    numbers += ',' + str(num)\n",
    "end_time = time.perf_counter()\n",
    "td1 = end_time - start_time\n",
    "\n",
    "start_time = time.perf_counter()\n",
    "numbers = [str(random.randint(1,100)) for i in range(1,1000)]\n",
    "numbers = ', '.join(numbers)\n",
    "end_time = time.perf_counter()\n",
    "td2 = end_time - start_time\n",
    "\n",
    "print('''Time Delta 1: {}\n",
    "Time Delta 2: {}'''.format(td1, td2))"
   ]
  },
  {
   "cell_type": "code",
   "execution_count": 3,
   "metadata": {},
   "outputs": [
    {
     "name": "stdout",
     "output_type": "stream",
     "text": [
      "Time Delta 1: 1.7911391000000094\n",
      "Time Delta 2: 1.387048199999981\n"
     ]
    }
   ],
   "source": [
    "import random\n",
    "\n",
    "start_time = time.perf_counter()\n",
    "for j in range(1000):\n",
    "    numbers = str(random.randint(1,100))\n",
    "    for i in range(1000):\n",
    "        num = random.randint(1,100)\n",
    "        numbers += ',' + str(num)\n",
    "end_time = time.perf_counter()\n",
    "td1 = end_time - start_time\n",
    "\n",
    "start_time = time.perf_counter()\n",
    "for j in range(1000):\n",
    "    numbers = [str(random.randint(1,100)) for i in range(1,1000)]\n",
    "    numbers = ', '.join(numbers)\n",
    "end_time = time.perf_counter()\n",
    "td2 = end_time - start_time\n",
    "\n",
    "print('''Time Delta 1: {}\n",
    "Time Delta 2: {}'''.format(td1, td2))"
   ]
  },
  {
   "cell_type": "code",
   "execution_count": 4,
   "metadata": {},
   "outputs": [
    {
     "data": {
      "text/plain": [
       "(1.6976649999999722, 1.3660198999999693)"
      ]
     },
     "execution_count": 4,
     "metadata": {},
     "output_type": "execute_result"
    }
   ],
   "source": [
    "import random\n",
    "from timeit import timeit\n",
    "\n",
    "def string_nums1():\n",
    "    numbers = str(random.randint(1,100))\n",
    "    for i in range(1000):\n",
    "        num = random.randint(1,100)\n",
    "        numbers += ', ' + str(num)\n",
    "    \n",
    "def string_nums2():\n",
    "    numbers = [str(random.randint(1,100)) for i in range(1,1000)]\n",
    "    numbers = ', '.join(numbers)\n",
    "\n",
    "td1 = timeit(string_nums1, number=1000)\n",
    "td2 = timeit(string_nums2, number=1000)\n",
    "\n",
    "td1, td2"
   ]
  },
  {
   "cell_type": "code",
   "execution_count": 5,
   "metadata": {},
   "outputs": [
    {
     "name": "stdout",
     "output_type": "stream",
     "text": [
      "1.6985237000000097 1.3543918000000303\n"
     ]
    }
   ],
   "source": [
    "import random\n",
    "from timeit import timeit\n",
    "\n",
    "str_nums1 = \"\"\"\n",
    "numbers = str(random.randint(1,100))\n",
    "for i in range(1000):\n",
    "    num = random.randint(1,100)\n",
    "    numbers += ', ' + str(num)\"\"\"\n",
    "    \n",
    "str_nums2 = \"\"\"\n",
    "numbers = [str(random.randint(1,100)) for i in range(1,1000)]\n",
    "numbers = ', '.join(numbers)\"\"\"\n",
    "\n",
    "td1 = timeit(str_nums1, number=1000, globals=globals())\n",
    "td2 = timeit(str_nums2, number=1000, globals=globals())\n",
    "\n",
    "print(td1, td2)"
   ]
  },
  {
   "cell_type": "code",
   "execution_count": 6,
   "metadata": {},
   "outputs": [
    {
     "data": {
      "text/plain": [
       "(1.7625485000000367, 1.385807399999976)"
      ]
     },
     "execution_count": 6,
     "metadata": {},
     "output_type": "execute_result"
    }
   ],
   "source": [
    "from timeit import timeit\n",
    "\n",
    "str_nums1 = \"\"\"\n",
    "numbers = str(random.randint(1,100))\n",
    "for i in range(1000):\n",
    "    num = random.randint(1,100)\n",
    "    numbers += ', ' + str(num)\"\"\"\n",
    "    \n",
    "str_nums2 = \"\"\"\n",
    "numbers = [str(random.randint(1,100)) for i in range(1,1000)]\n",
    "numbers = ', '.join(numbers)\"\"\"\n",
    "\n",
    "td1 = timeit(str_nums1, number=1000, setup='import random')\n",
    "td2 = timeit(str_nums2, number=1000, setup='import random')\n",
    "\n",
    "td1, td2"
   ]
  },
  {
   "cell_type": "code",
   "execution_count": 7,
   "metadata": {
    "scrolled": true
   },
   "outputs": [
    {
     "data": {
      "text/plain": [
       "([1.6760277999999857,\n",
       "  1.673202099999969,\n",
       "  1.6739235000000008,\n",
       "  1.6754241000000434],\n",
       " [1.3623853999999938,\n",
       "  1.3612257999999997,\n",
       "  1.3600226000000362,\n",
       "  1.3588545999999724])"
      ]
     },
     "execution_count": 7,
     "metadata": {},
     "output_type": "execute_result"
    }
   ],
   "source": [
    "from timeit import repeat\n",
    "\n",
    "string_nums1 = \"\"\"\n",
    "numbers = str(random.randint(1,100))\n",
    "for i in range(1000):\n",
    "    num = random.randint(1,100)\n",
    "    numbers += ', ' + str(num)\"\"\"\n",
    "    \n",
    "string_nums2 = \"\"\"\n",
    "numbers = [str(random.randint(1,100)) for i in range(1,1000)]\n",
    "numbers = ', '.join(numbers)\"\"\"\n",
    "\n",
    "tds1 = repeat(string_nums1, number=1000, repeat=4, setup='import random')\n",
    "tds2 = repeat(string_nums2, number=1000, repeat=4, setup='import random')\n",
    "\n",
    "tds1, tds2"
   ]
  },
  {
   "cell_type": "code",
   "execution_count": 8,
   "metadata": {},
   "outputs": [
    {
     "data": {
      "text/plain": [
       "'18.75%'"
      ]
     },
     "execution_count": 8,
     "metadata": {},
     "output_type": "execute_result"
    }
   ],
   "source": [
    "'{:.2%}'.format(1 - sum(tds2) / sum(tds1))"
   ]
  },
  {
   "cell_type": "code",
   "execution_count": 9,
   "metadata": {},
   "outputs": [
    {
     "name": "stdout",
     "output_type": "stream",
     "text": [
      "1.68 ms ± 7.75 µs per loop (mean ± std. dev. of 4 runs, 1000 loops each)\n",
      "1.39 ms ± 13.6 µs per loop (mean ± std. dev. of 4 runs, 1000 loops each)\n"
     ]
    }
   ],
   "source": [
    "import random\n",
    "\n",
    "def string_nums1():\n",
    "    numbers = str(random.randint(1,100))\n",
    "    for i in range(1000):\n",
    "        num = random.randint(1,100)\n",
    "        numbers += ', ' + str(num)\n",
    "    \n",
    "def string_nums2():\n",
    "    numbers = [str(random.randint(1,100)) for i in range(1,1000)]\n",
    "    numbers = ', '.join(numbers)\n",
    "\n",
    "tr1 = %timeit -n1000 -r4 -o string_nums1()\n",
    "tr2 = %timeit -n1000 -r4 -o string_nums2()"
   ]
  },
  {
   "cell_type": "code",
   "execution_count": 10,
   "metadata": {},
   "outputs": [
    {
     "data": {
      "text/plain": [
       "[1.6929444000001013, 1.6734486999999945, 1.676489599999968, 1.6757695000000012]"
      ]
     },
     "execution_count": 10,
     "metadata": {},
     "output_type": "execute_result"
    }
   ],
   "source": [
    "tr1.all_runs"
   ]
  },
  {
   "cell_type": "code",
   "execution_count": 11,
   "metadata": {},
   "outputs": [
    {
     "data": {
      "text/plain": [
       "'17.15%'"
      ]
     },
     "execution_count": 11,
     "metadata": {},
     "output_type": "execute_result"
    }
   ],
   "source": [
    "'{:.2%}'.format(1 - sum(tr2.all_runs) / sum(tr1.all_runs) )"
   ]
  },
  {
   "cell_type": "code",
   "execution_count": 12,
   "metadata": {},
   "outputs": [
    {
     "name": "stdout",
     "output_type": "stream",
     "text": [
      "1.69 ms ± 20 µs per loop (mean ± std. dev. of 7 runs, 1000 loops each)\n"
     ]
    }
   ],
   "source": [
    "%%timeit -n 1000\n",
    "\n",
    "numbers = str(random.randint(1,100))\n",
    "for i in range(1000):\n",
    "    num = random.randint(1,100)\n",
    "    numbers += ', ' + str(num)"
   ]
  },
  {
   "cell_type": "code",
   "execution_count": 13,
   "metadata": {},
   "outputs": [
    {
     "name": "stdout",
     "output_type": "stream",
     "text": [
      "1.38 ms ± 12.4 µs per loop (mean ± std. dev. of 7 runs, 1000 loops each)\n"
     ]
    }
   ],
   "source": [
    "%%timeit -n 1000\n",
    "\n",
    "numbers = [str(random.randint(1,100)) for i in range(1,1000)]\n",
    "numbers = ', '.join(numbers)"
   ]
  }
 ],
 "metadata": {
  "kernelspec": {
   "display_name": "Python 3",
   "language": "python",
   "name": "python3"
  },
  "language_info": {
   "codemirror_mode": {
    "name": "ipython",
    "version": 3
   },
   "file_extension": ".py",
   "mimetype": "text/x-python",
   "name": "python",
   "nbconvert_exporter": "python",
   "pygments_lexer": "ipython3",
   "version": "3.6.5"
  }
 },
 "nbformat": 4,
 "nbformat_minor": 1
}
