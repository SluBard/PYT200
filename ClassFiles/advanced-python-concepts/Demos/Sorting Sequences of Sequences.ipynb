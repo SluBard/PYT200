{
 "cells": [
  {
   "cell_type": "code",
   "execution_count": 1,
   "metadata": {},
   "outputs": [
    {
     "data": {
      "text/plain": [
       "[('Adolph', 'Hitler'),\n",
       " ('Benito', 'Mussolini'),\n",
       " ('Charles', 'de Gaulle'),\n",
       " ('Franklin', 'Roosevelt'),\n",
       " ('Hideki', 'Tojo'),\n",
       " ('Joseph', 'Stalin'),\n",
       " ('Teddy', 'Roosevelt'),\n",
       " ('Winston', 'Churchill')]"
      ]
     },
     "execution_count": 1,
     "metadata": {},
     "output_type": "execute_result"
    }
   ],
   "source": [
    "ww2_leaders = [\n",
    "    ('Charles', 'de Gaulle'),\n",
    "    ('Winston', 'Churchill'),\n",
    "    ('Teddy', 'Roosevelt'), #not a WW2 leader, but helps illustrate the point\n",
    "    ('Franklin', 'Roosevelt'),\n",
    "    ('Joseph', 'Stalin'),\n",
    "    ('Adolph', 'Hitler'),\n",
    "    ('Benito', 'Mussolini'),\n",
    "    ('Hideki', 'Tojo')\n",
    "]\n",
    "\n",
    "ww2_leaders.sort()\n",
    "ww2_leaders"
   ]
  },
  {
   "cell_type": "code",
   "execution_count": 2,
   "metadata": {},
   "outputs": [
    {
     "data": {
      "text/plain": [
       "[('Winston', 'Churchill'),\n",
       " ('Adolph', 'Hitler'),\n",
       " ('Benito', 'Mussolini'),\n",
       " ('Franklin', 'Roosevelt'),\n",
       " ('Teddy', 'Roosevelt'),\n",
       " ('Joseph', 'Stalin'),\n",
       " ('Hideki', 'Tojo'),\n",
       " ('Charles', 'de Gaulle')]"
      ]
     },
     "execution_count": 2,
     "metadata": {},
     "output_type": "execute_result"
    }
   ],
   "source": [
    "ww2_leaders.sort( key=lambda leader: (leader[1], leader[0]) )\n",
    "ww2_leaders"
   ]
  },
  {
   "cell_type": "code",
   "execution_count": 3,
   "metadata": {},
   "outputs": [
    {
     "data": {
      "text/plain": [
       "[('Winston', 'Churchill'),\n",
       " ('Charles', 'de Gaulle'),\n",
       " ('Adolph', 'Hitler'),\n",
       " ('Benito', 'Mussolini'),\n",
       " ('Franklin', 'Roosevelt'),\n",
       " ('Teddy', 'Roosevelt'),\n",
       " ('Joseph', 'Stalin'),\n",
       " ('Hideki', 'Tojo')]"
      ]
     },
     "execution_count": 3,
     "metadata": {},
     "output_type": "execute_result"
    }
   ],
   "source": [
    "ww2_leaders.sort( key=lambda leader: (leader[1].lower(), leader[0]) )\n",
    "ww2_leaders"
   ]
  }
 ],
 "metadata": {
  "kernelspec": {
   "display_name": "Python 3",
   "language": "python",
   "name": "python3"
  },
  "language_info": {
   "codemirror_mode": {
    "name": "ipython",
    "version": 3
   },
   "file_extension": ".py",
   "mimetype": "text/x-python",
   "name": "python",
   "nbconvert_exporter": "python",
   "pygments_lexer": "ipython3",
   "version": "3.6.5"
  }
 },
 "nbformat": 4,
 "nbformat_minor": 1
}
