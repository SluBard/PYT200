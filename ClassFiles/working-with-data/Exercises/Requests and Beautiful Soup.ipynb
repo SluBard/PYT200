{
 "cells": [
  {
   "cell_type": "markdown",
   "metadata": {},
   "source": [
    "# Requests and Beautiful Soup"
   ]
  },
  {
   "cell_type": "code",
   "execution_count": 1,
   "metadata": {},
   "outputs": [
    {
     "name": "stdout",
     "output_type": "stream",
     "text": [
      "Enter a state abbreviation: NY\n",
      "1 Gillibrand, Kirsten E.\n",
      "2 Schumer, Charles E.\n"
     ]
    }
   ],
   "source": [
    "import requests\n",
    "from bs4 import BeautifulSoup\n",
    "import re\n",
    "\n",
    "state = input(\"Enter a state abbreviation: \")\n",
    "\n",
    "url = 'https://www.senate.gov/general/contact_information/senators_cfm.cfm'\n",
    "headers = {'user-agent': 'my-app/0.0.1'}\n",
    "content = requests.get(url, headers=headers, params={'State': state} )\n",
    "\n",
    "soup = BeautifulSoup(content.text, 'html.parser')\n",
    "\n",
    "senators = soup.find_all('a', href = re.compile('senate.gov/?$'))\n",
    "\n",
    "for i, senator in enumerate(senators, 1):\n",
    "    print(i, senator.text.strip())\n"
   ]
  },
  {
   "cell_type": "markdown",
   "metadata": {},
   "source": [
    "## Challenge"
   ]
  },
  {
   "cell_type": "code",
   "execution_count": 4,
   "metadata": {},
   "outputs": [
    {
     "name": "stdout",
     "output_type": "stream",
     "text": [
      "[('John', 7), ('Richard', 4), ('Mike', 4)]\n"
     ]
    }
   ],
   "source": [
    "from collections import Counter\n",
    "\n",
    "url = 'https://www.senate.gov/general/contact_information/senators_cfm.cfm'\n",
    "headers = {'user-agent': 'my-app/0.0.1'}\n",
    "content = requests.get(url, headers=headers )\n",
    "\n",
    "soup = BeautifulSoup(content.text, 'html.parser')\n",
    "\n",
    "senators = soup.find_all('a', href = re.compile('senate.gov/?$'))\n",
    "#print(senators)\n",
    "first_names=[ senator.text.strip().split(',')[1].split()[0] for senator in senators if len(senator.text.strip().split(','))==2 ]\n",
    "\n",
    "'''\n",
    "# This is what the list expansion does....\n",
    "first_names=[]\n",
    "for senator in senators:\n",
    "    if len(senator.text.strip().split(',')) == 2:  #<--- gets rid of bad data where there aren't two names\n",
    "        first_name = senator.text.strip().split(',')[1].split()[0] #<--- the second split gets rid of names that have middle initials\n",
    "        first_names.append(first_name)\n",
    "'''\n",
    "\n",
    "\n",
    "print(Counter(first_names).most_common(3))\n"
   ]
  }
 ],
 "metadata": {
  "kernelspec": {
   "display_name": "Python 3",
   "language": "python",
   "name": "python3"
  },
  "language_info": {
   "codemirror_mode": {
    "name": "ipython",
    "version": 3
   },
   "file_extension": ".py",
   "mimetype": "text/x-python",
   "name": "python",
   "nbconvert_exporter": "python",
   "pygments_lexer": "ipython3",
   "version": "3.6.5"
  }
 },
 "nbformat": 4,
 "nbformat_minor": 1
}
